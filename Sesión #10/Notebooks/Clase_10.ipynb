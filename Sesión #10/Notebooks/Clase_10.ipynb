{
 "cells": [
  {
   "cell_type": "markdown",
   "metadata": {
    "id": "sj6p3X3akdxX"
   },
   "source": [
    "<hr>\n",
    "Este material ha sido construido en conjunto con material suministrado por los profesores Pedro Atencio (Instituto Tecnológico Metropolitano), Carlos Mera (Instituto Tecnológico Metropolitano), Albeiro Espinosa y Diego Patiño (Universidad Nacional de Colombia, Sede Medellín); a ellos les damos crédito.\n",
    "<hr>"
   ]
  },
  {
   "cell_type": "markdown",
   "metadata": {
    "id": "yGE_MvL9kdxZ"
   },
   "source": [
    "#  <center> VISIÓN ARTIFICIAL </center>\n",
    "## Agenda del día\n",
    "\n",
    "\n",
    "### UNIDAD 11 - SELECCIÓN DE CARACTERÍSTICAS E INTRODUCCIÓN AL RECONOCIMIENTO DE PATRONES\n",
    "\n",
    "<ul>\n",
    "  <li>Repaso extracción</li>\n",
    "  <li>Selección de características</li>\n",
    "  <li>Introducción al reconocimiento de patrones</li>\n",
    "\n",
    "</ul>"
   ]
  },
  {
   "cell_type": "code",
   "execution_count": 1,
   "metadata": {
    "id": "ijndeY67kdxa"
   },
   "outputs": [],
   "source": [
    "#Lectura de librerías útiles\n",
    "%matplotlib inline\n",
    "\n",
    "import cv2\n",
    "import matplotlib.pyplot as plt\n",
    "import numpy as np\n",
    "import math\n",
    "import warnings\n",
    "from skimage import morphology\n",
    "from skimage.measure import label, regionprops\n",
    "import pandas as pd\n",
    "warnings.filterwarnings('ignore')\n",
    "\n",
    "#Definir funciones que agilizan la lectura de imágenes\n",
    "def img_read(filename, mode = 'color'):\n",
    "    if(mode == 'color'):   \n",
    "        return cv2.cvtColor(cv2.imread(filename),cv2.COLOR_BGR2RGB)\n",
    "    elif(mode=='grayscale' or mode=='greyscale' or mode == 'gray' or mode == 'grey'):\n",
    "        return cv2.imread(filename, cv2.IMREAD_GRAYSCALE)\n",
    "    else:\n",
    "        return None"
   ]
  },
  {
   "cell_type": "markdown",
   "metadata": {
    "id": "wnlClYwskdxb"
   },
   "source": [
    "<img src = res/intro.png>"
   ]
  },
  {
   "cell_type": "markdown",
   "metadata": {
    "id": "N2TUWdmPkdxb"
   },
   "source": [
    "En esta sesión haremos uso del conjunto de datos MNIST para ejemplificar las fases de extracción, selección y clasificación.\n",
    "\n",
    "Este conjunto de datos está conformado por 70.000 imágenes de dígitos del 0 al 9 escritos a mano. La tarea es, pues, clasificar los dígitos. \n",
    "\n",
    "<img src = res/digitos.png>\n",
    "\n",
    "# 1.0 REPASO DE SEGMENTACIÓN/EXTRACCIÓN DE CARACTERÍSTICAS\n",
    "\n",
    "A continuación, repasemos el proceso de extracción de características para los dígitos del conjunto de datos MNIST. Para esto, hacemos uso de la librería Keras, la cual tiene el conjunto listo para ser utilizado.\n",
    "\n",
    "Keras devuelve los datos en forma de un conjunto de entrenamiento  (x_train, y_train) de 70000 entradas donde cada entrada de entrenamiento $x_i$ es una matriz conformada por 28x28 píxeles, y cada etiqueta de entrenamiento $y_i$ es un número del 0 al 9 indicando la clase de la entrada correspondiente.\n",
    "\n",
    "El conjunto de prueba (x_test, y_test) se puede describir de la misma forma, con la salvedad de que está conformado por 10000 entradas."
   ]
  },
  {
   "cell_type": "code",
   "execution_count": 2,
   "metadata": {
    "id": "pESuRWuqkdxb",
    "outputId": "d65d5b62-cb9c-44e1-e72b-1929bbbdaed5"
   },
   "outputs": [
    {
     "name": "stdout",
     "output_type": "stream",
     "text": [
      "Conjunto de entrenamiento:  (60000, 28, 28)\n",
      "Etiquetas de entrenamiento:  (60000,)\n"
     ]
    }
   ],
   "source": [
    "#Importar datasets preparados para trabajar\n",
    "from keras.datasets import mnist\n",
    "\n",
    "#Cargar el dataset, conjuntos de entrenamiento y pruebas\n",
    "(x_train, y_train), (x_test, y_test) = mnist.load_data()\n",
    "\n",
    "#Imprimir resultados de entrenamiento (labels)\n",
    "print(\"Conjunto de entrenamiento: \", x_train.shape)\n",
    "print(\"Etiquetas de entrenamiento: \", y_train.shape)"
   ]
  },
  {
   "cell_type": "code",
   "execution_count": 3,
   "metadata": {
    "id": "8xPuxLXzkdxc",
    "outputId": "ac5e1c1f-e187-436c-e460-4505be775236"
   },
   "outputs": [
    {
     "name": "stdout",
     "output_type": "stream",
     "text": [
      "Conjunto de prueba:  (10000, 28, 28)\n",
      "Etiquetas de prueba:  (10000,)\n"
     ]
    }
   ],
   "source": [
    "print(\"Conjunto de prueba: \", x_test.shape)\n",
    "print(\"Etiquetas de prueba: \", y_test.shape)"
   ]
  },
  {
   "cell_type": "markdown",
   "metadata": {
    "id": "kHFKW8xHkdxc"
   },
   "source": [
    "# 1.1 SEGMENTACIÓN\n",
    "\n",
    "Para este caso de estudio, la segmentación es trivial pero en todo caso necesaria. \n",
    "\n",
    "Examinemos una imagen del conjunto de entrenamiento:"
   ]
  },
  {
   "cell_type": "code",
   "execution_count": 4,
   "metadata": {
    "id": "cTBfVQCrkdxd",
    "outputId": "a57f5bc1-72fe-4e8a-fcd9-0131e3c8aed8"
   },
   "outputs": [
    {
     "data": {
      "text/plain": [
       "<matplotlib.image.AxesImage at 0x166409e14c0>"
      ]
     },
     "execution_count": 4,
     "metadata": {},
     "output_type": "execute_result"
    },
    {
     "data": {
      "image/png": "[encoded data removed]",
      "text/plain": [
       "<Figure size 432x288 with 1 Axes>"
      ]
     },
     "metadata": {
      "needs_background": "light"
     },
     "output_type": "display_data"
    }
   ],
   "source": [
    "#Mostrar una imagen del dataset de entrenamiento \n",
    "im = x_train[775]\n",
    "plt.imshow(im, cmap='gray')"
   ]
  },
  {
   "cell_type": "markdown",
   "metadata": {
    "id": "dTaTHPC-kdxe"
   },
   "source": [
    "Los gradientes de intensidad en los bordes de la imagen no contienen información que nos sea demasiado útil para trabajar con las imágenes. Por este motivo, aplicamos una umbralización simple de manera que podamos extraer características a partir de la máscara binaria."
   ]
  },
  {
   "cell_type": "code",
   "execution_count": 5,
   "metadata": {
    "id": "sPpB7m1okdxe"
   },
   "outputs": [],
   "source": [
    "#Extraer máscara binaria de todos los elementos de entrenamiento y pruebas\n",
    "\n",
    "for i in range(len(x_train)):\n",
    "    x_train[i][x_train[i]>0.1] = 1\n",
    "    x_train[i][x_train[i]<=0.1] = 0\n",
    "\n",
    "for i in range(len(x_test)):\n",
    "    x_test[i][x_test[i]>0.1] = 1\n",
    "    x_test[i][x_test[i]<=0.1] = 0  "
   ]
  },
  {
   "cell_type": "code",
   "execution_count": 6,
   "metadata": {
    "id": "vJ0C8HCQkdxf",
    "outputId": "607796f1-4d88-4afc-c3e9-7f43e8ccf6b6"
   },
   "outputs": [
    {
     "data": {
      "text/plain": [
       "<matplotlib.image.AxesImage at 0x16640adfaf0>"
      ]
     },
     "execution_count": 6,
     "metadata": {},
     "output_type": "execute_result"
    },
    {
     "data": {
      "image/png": "[encoded data removed]",
      "text/plain": [
       "<Figure size 432x288 with 1 Axes>"
      ]
     },
     "metadata": {
      "needs_background": "light"
     },
     "output_type": "display_data"
    }
   ],
   "source": [
    "plt.imshow(x_train[775], cmap='gray')"
   ]
  },
  {
   "cell_type": "markdown",
   "metadata": {
    "id": "CRqQ-4DRkdxg"
   },
   "source": [
    "# 1.2 MORFOLOGÍA\n",
    "\n",
    "Como vemos arriba, algunas de las imágenes resultantes tienen componentes que no son de interés. De manera empírica definimos eliminar los componentes que no son de interés mediante la operación <i>remove small objects</i> de la librería scikit-image.\n",
    "\n",
    "En algunas imágenes de ceros, el círculo no está cerrado completamente, sin embargo, decidimos no implementar funciones de morfología para corregir dichos errores puesto que esto puede incidir negativamente en imágenes donde los huecos sean pequeños."
   ]
  },
  {
   "cell_type": "code",
   "execution_count": 7,
   "metadata": {
    "id": "bY-u4gslkdxg",
    "outputId": "f1460a1d-c1d0-4f0e-9b47-102a24efa703"
   },
   "outputs": [
    {
     "data": {
      "text/plain": [
       "<matplotlib.image.AxesImage at 0x16640b4ea30>"
      ]
     },
     "execution_count": 7,
     "metadata": {},
     "output_type": "execute_result"
    },
    {
     "data": {
      "image/png": "[encoded data removed]",
      "text/plain": [
       "<Figure size 432x288 with 1 Axes>"
      ]
     },
     "metadata": {
      "needs_background": "light"
     },
     "output_type": "display_data"
    }
   ],
   "source": [
    "#Aplicar remoción de objetos pequeños sobre las imágenes binarias\n",
    "img = x_train[775]\n",
    "img *= morphology.remove_small_objects(img.astype(bool), min_size = 50)\n",
    "plt.imshow(img, cmap = 'gray')"
   ]
  },
  {
   "cell_type": "markdown",
   "metadata": {
    "id": "t5Zg_Ui9kdxg"
   },
   "source": [
    "# 1.3 EXTRACCIÓN DE CARACTERÍSTICAS\n",
    "\n",
    "Ya que el conjunto de imágenes MNIST no contiene información de color o textura que nos sea de utilidad, nos centraremos en el uso de descriptores de forma y topología."
   ]
  },
  {
   "cell_type": "markdown",
   "metadata": {
    "id": "4ng8b-rKkdxh"
   },
   "source": [
    "## 1.3.1 MOMENTOS DE HU\n",
    "\n",
    "Como se vio en la sesión anterior, los momentos de Hu son los momentos más útiles para tareas de clasificación al ser invariantes al tamaño, la rotación y la traslación. \n",
    "\n",
    "Adicionalmente, tomamos el logaritmo de los mismos para garantizar que se mantengan en un rango de valores razonable."
   ]
  },
  {
   "cell_type": "code",
   "execution_count": 8,
   "metadata": {
    "id": "CDPInjCTkdxh"
   },
   "outputs": [],
   "source": [
    "#definir función que extrae los momentos\n",
    "\n",
    "def get_moments_hu(props, features):\n",
    "    moments_hu = props.moments_hu\n",
    "    moments_hu = np.sign(moments_hu) * np.log(np.abs(moments_hu))\n",
    "    features['hu0'] = moments_hu[0]\n",
    "    features['hu1'] = moments_hu[1]\n",
    "    features['hu2'] = moments_hu[2]\n",
    "    features['hu3'] = moments_hu[3]\n",
    "    features['hu4'] = moments_hu[4]\n",
    "    features['hu5'] = moments_hu[5]\n",
    "    features['hu6'] = moments_hu[6]\n",
    "    return features"
   ]
  },
  {
   "cell_type": "markdown",
   "metadata": {
    "id": "u6XiXkuNkdxi"
   },
   "source": [
    "## 1.3.2 CARACTERÍSTICAS TOPOLÓGICAS\n",
    "\n",
    "Entre las características topológicas, la de mayor interés es el número de euler (1 - la cantidad de huecos en el objeto). Decidimos no usar el número de huecos, ya que está correlacionado con el número de huecos."
   ]
  },
  {
   "cell_type": "code",
   "execution_count": 9,
   "metadata": {
    "id": "gBuDtwlKkdxi"
   },
   "outputs": [],
   "source": [
    "#obtener propiedades topológicas de la imagen\n",
    "\n",
    "def get_features_topological(props, features):\n",
    "    features['euler_num'] = props.euler_number\n",
    "    return features\n"
   ]
  },
  {
   "cell_type": "markdown",
   "metadata": {
    "id": "ActjQIh3kdxj"
   },
   "source": [
    "## 1.3.3 CARACTERÍSTICAS DE FORMA\n",
    "\n"
   ]
  },
  {
   "cell_type": "code",
   "execution_count": 10,
   "metadata": {
    "executionInfo": {
     "elapsed": 449,
     "status": "ok",
     "timestamp": 1653391799959,
     "user": {
      "displayName": "Dioselin Esteban Brito Penaloza",
      "userId": "05491572848506703857"
     },
     "user_tz": 300
    },
    "id": "I2ZvmmkUkdxj"
   },
   "outputs": [],
   "source": [
    "#función de características de forma\n",
    "\n",
    "def get_features_area(props, features):\n",
    "    \n",
    "    features['orientation'] = props.orientation\n",
    "    features['area_to_convex_ratio'] = props.area/props.convex_area\n",
    "    features['compacity'] = props.perimeter**2/props.area\n",
    "    features['roundness'] = 4*math.pi*props.area /(props.perimeter**2)\n",
    "    #print(i)\n",
    "    features['area_perimeter_ratio'] = props.area / props.perimeter\n",
    "    features['elongation'] = props.major_axis_length/props.minor_axis_length\n",
    "    features['solidity1'] = props.area/props.convex_area\n",
    "    features['solidity2'] = props.area / props.filled_area\n",
    "    return features"
   ]
  },
  {
   "cell_type": "markdown",
   "metadata": {
    "id": "5y65q6dCkdxj"
   },
   "source": [
    "# JUNTANDO LO ANTERIOR\n",
    "\n",
    "Combinamos lo anterior (excepto umbralización) en una sola función get_features en la que se aplicamos morfología y extracción de las características.\n",
    "\n",
    "Esta función de vuelve un diccionario de características <i>features</i> con las características extraidas de una imagen del conjunto de datos.\n",
    "\n"
   ]
  },
  {
   "cell_type": "code",
   "execution_count": 11,
   "metadata": {
    "id": "PCNdZy5kkdxj"
   },
   "outputs": [],
   "source": [
    "#función que extrae características de una imagen\n",
    "\n",
    "def get_features(img):\n",
    "    features = {}\n",
    "    img *= morphology.remove_small_objects(img.astype(bool), min_size = 20)\n",
    "    label_img = label(img)\n",
    "    props = regionprops(label_img)[0]\n",
    "    features = get_moments_hu(props, features)\n",
    "    features = get_features_topological(props, features)\n",
    "    features = get_features_area(props, features)\n",
    "    return features\n",
    "\n",
    "features_0 = get_features(x_train[0])\n",
    "columns = list(features_0.keys())\n",
    "columns.append('class')\n",
    "\n",
    "#crear dataset de características de entrenamiento como dataframe de pandas\n",
    "df_train = pd.DataFrame(columns=columns)\n",
    "\n",
    "#extraer características de todas las imágenes de entrenamiento \n",
    "for i in range(len(x_train)):\n",
    "    features = get_features(x_train[i])\n",
    "    df_train.loc[i] = [features[feature] for feature in features.keys()]+[y_train[i]]"
   ]
  },
  {
   "cell_type": "code",
   "execution_count": 12,
   "metadata": {
    "id": "x5xr1y74kdxk"
   },
   "outputs": [],
   "source": [
    "#volverlo un csv\n",
    "df_train.to_csv('data_train.csv')"
   ]
  },
  {
   "cell_type": "code",
   "execution_count": 13,
   "metadata": {
    "id": "bRFY8EM0kdxk"
   },
   "outputs": [],
   "source": [
    "#leer el set como un dataframe de pandas\n",
    "df_train = pd.read_csv('data_train.csv')"
   ]
  },
  {
   "cell_type": "code",
   "execution_count": 14,
   "metadata": {
    "id": "ZmgjL5Ookdxk",
    "outputId": "01b43ab5-6e16-4039-a606-219ce4a49bd9"
   },
   "outputs": [
    {
     "data": {
      "text/html": [
       "<div>\n",
       "<style scoped>\n",
       "    .dataframe tbody tr th:only-of-type {\n",
       "        vertical-align: middle;\n",
       "    }\n",
       "\n",
       "    .dataframe tbody tr th {\n",
       "        vertical-align: top;\n",
       "    }\n",
       "\n",
       "    .dataframe thead th {\n",
       "        text-align: right;\n",
       "    }\n",
       "</style>\n",
       "<table border=\"1\" class=\"dataframe\">\n",
       "  <thead>\n",
       "    <tr style=\"text-align: right;\">\n",
       "      <th></th>\n",
       "      <th>Unnamed: 0</th>\n",
       "      <th>hu0</th>\n",
       "      <th>hu1</th>\n",
       "      <th>hu2</th>\n",
       "      <th>hu3</th>\n",
       "      <th>hu4</th>\n",
       "      <th>hu5</th>\n",
       "      <th>hu6</th>\n",
       "      <th>euler_num</th>\n",
       "      <th>orientation</th>\n",
       "      <th>area_to_convex_ratio</th>\n",
       "      <th>compacity</th>\n",
       "      <th>roundness</th>\n",
       "      <th>area_perimeter_ratio</th>\n",
       "      <th>elongation</th>\n",
       "      <th>solidity1</th>\n",
       "      <th>solidity2</th>\n",
       "      <th>class</th>\n",
       "    </tr>\n",
       "  </thead>\n",
       "  <tbody>\n",
       "    <tr>\n",
       "      <th>0</th>\n",
       "      <td>0</td>\n",
       "      <td>-1.030334</td>\n",
       "      <td>-3.382183</td>\n",
       "      <td>-5.921228</td>\n",
       "      <td>-7.284824</td>\n",
       "      <td>-14.569056</td>\n",
       "      <td>-9.615941</td>\n",
       "      <td>-14.035736</td>\n",
       "      <td>1.0</td>\n",
       "      <td>-0.314864</td>\n",
       "      <td>0.544262</td>\n",
       "      <td>51.040868</td>\n",
       "      <td>0.246202</td>\n",
       "      <td>1.803412</td>\n",
       "      <td>1.770921</td>\n",
       "      <td>0.544262</td>\n",
       "      <td>1.000000</td>\n",
       "      <td>5.0</td>\n",
       "    </tr>\n",
       "    <tr>\n",
       "      <th>1</th>\n",
       "      <td>1</td>\n",
       "      <td>-1.152595</td>\n",
       "      <td>-4.044950</td>\n",
       "      <td>-7.522026</td>\n",
       "      <td>-8.279011</td>\n",
       "      <td>18.609868</td>\n",
       "      <td>-10.516197</td>\n",
       "      <td>16.183418</td>\n",
       "      <td>0.0</td>\n",
       "      <td>-0.600123</td>\n",
       "      <td>0.676923</td>\n",
       "      <td>55.701218</td>\n",
       "      <td>0.225603</td>\n",
       "      <td>1.777559</td>\n",
       "      <td>1.562802</td>\n",
       "      <td>0.676923</td>\n",
       "      <td>0.709677</td>\n",
       "      <td>0.0</td>\n",
       "    </tr>\n",
       "    <tr>\n",
       "      <th>2</th>\n",
       "      <td>2</td>\n",
       "      <td>-0.658067</td>\n",
       "      <td>-3.536645</td>\n",
       "      <td>-2.466380</td>\n",
       "      <td>-5.307169</td>\n",
       "      <td>-9.844151</td>\n",
       "      <td>-7.455273</td>\n",
       "      <td>-9.352959</td>\n",
       "      <td>1.0</td>\n",
       "      <td>1.431272</td>\n",
       "      <td>0.404040</td>\n",
       "      <td>56.511648</td>\n",
       "      <td>0.222368</td>\n",
       "      <td>1.457208</td>\n",
       "      <td>1.408097</td>\n",
       "      <td>0.404040</td>\n",
       "      <td>1.000000</td>\n",
       "      <td>4.0</td>\n",
       "    </tr>\n",
       "    <tr>\n",
       "      <th>3</th>\n",
       "      <td>3</td>\n",
       "      <td>-0.769493</td>\n",
       "      <td>-1.684218</td>\n",
       "      <td>-6.996959</td>\n",
       "      <td>-8.666822</td>\n",
       "      <td>-17.579829</td>\n",
       "      <td>11.850399</td>\n",
       "      <td>-16.559834</td>\n",
       "      <td>1.0</td>\n",
       "      <td>-0.543694</td>\n",
       "      <td>0.800000</td>\n",
       "      <td>29.765909</td>\n",
       "      <td>0.422173</td>\n",
       "      <td>1.795875</td>\n",
       "      <td>5.249216</td>\n",
       "      <td>0.800000</td>\n",
       "      <td>1.000000</td>\n",
       "      <td>1.0</td>\n",
       "    </tr>\n",
       "    <tr>\n",
       "      <th>4</th>\n",
       "      <td>4</td>\n",
       "      <td>-1.262993</td>\n",
       "      <td>-4.296575</td>\n",
       "      <td>-4.179752</td>\n",
       "      <td>-6.115294</td>\n",
       "      <td>-11.306249</td>\n",
       "      <td>-8.477602</td>\n",
       "      <td>12.506082</td>\n",
       "      <td>0.0</td>\n",
       "      <td>0.050033</td>\n",
       "      <td>0.663551</td>\n",
       "      <td>45.941695</td>\n",
       "      <td>0.273529</td>\n",
       "      <td>1.758088</td>\n",
       "      <td>1.550739</td>\n",
       "      <td>0.663551</td>\n",
       "      <td>0.934211</td>\n",
       "      <td>9.0</td>\n",
       "    </tr>\n",
       "  </tbody>\n",
       "</table>\n",
       "</div>"
      ],
      "text/plain": [
       "   Unnamed: 0       hu0       hu1       hu2       hu3        hu4        hu5  \\\n",
       "0           0 -1.030334 -3.382183 -5.921228 -7.284824 -14.569056  -9.615941   \n",
       "1           1 -1.152595 -4.044950 -7.522026 -8.279011  18.609868 -10.516197   \n",
       "2           2 -0.658067 -3.536645 -2.466380 -5.307169  -9.844151  -7.455273   \n",
       "3           3 -0.769493 -1.684218 -6.996959 -8.666822 -17.579829  11.850399   \n",
       "4           4 -1.262993 -4.296575 -4.179752 -6.115294 -11.306249  -8.477602   \n",
       "\n",
       "         hu6  euler_num  orientation  area_to_convex_ratio  compacity  \\\n",
       "0 -14.035736        1.0    -0.314864              0.544262  51.040868   \n",
       "1  16.183418        0.0    -0.600123              0.676923  55.701218   \n",
       "2  -9.352959        1.0     1.431272              0.404040  56.511648   \n",
       "3 -16.559834        1.0    -0.543694              0.800000  29.765909   \n",
       "4  12.506082        0.0     0.050033              0.663551  45.941695   \n",
       "\n",
       "   roundness  area_perimeter_ratio  elongation  solidity1  solidity2  class  \n",
       "0   0.246202              1.803412    1.770921   0.544262   1.000000    5.0  \n",
       "1   0.225603              1.777559    1.562802   0.676923   0.709677    0.0  \n",
       "2   0.222368              1.457208    1.408097   0.404040   1.000000    4.0  \n",
       "3   0.422173              1.795875    5.249216   0.800000   1.000000    1.0  \n",
       "4   0.273529              1.758088    1.550739   0.663551   0.934211    9.0  "
      ]
     },
     "execution_count": 14,
     "metadata": {},
     "output_type": "execute_result"
    }
   ],
   "source": [
    "#mostrar los primeros ID del dataset\n",
    "df_train.head()"
   ]
  },
  {
   "cell_type": "code",
   "execution_count": 15,
   "metadata": {
    "id": "LW7wN0zCkdxl"
   },
   "outputs": [],
   "source": [
    "#extraer la parte del dataset que corresponde a pruebas\n",
    "df_test = pd.DataFrame(columns=columns)\n",
    "\n",
    "#obtener las características de las imágenes de prueba\n",
    "for i in range(len(x_test)):\n",
    "    features = get_features(x_test[i])\n",
    "    df_test.loc[i] = [features[feature] for feature in features.keys()]+[y_test[i]]\n",
    "    "
   ]
  },
  {
   "cell_type": "code",
   "execution_count": 16,
   "metadata": {
    "id": "punHvtSmkdxl"
   },
   "outputs": [],
   "source": [
    "#guardar como csv\n",
    "df_test.to_csv('data_test.csv')"
   ]
  },
  {
   "cell_type": "code",
   "execution_count": 17,
   "metadata": {
    "id": "qujNW0NOkdxl"
   },
   "outputs": [],
   "source": [
    "#leer el csv\n",
    "df_test = pd.read_csv('data_test.csv')"
   ]
  },
  {
   "cell_type": "markdown",
   "metadata": {
    "id": "Ar6wAN2bkdxl"
   },
   "source": [
    "# 2.0 SELECCIÓN DE CARACTERÍSTICAS\n",
    "\n",
    "El problema de selección de características puede entenderse como una instancia del problema de la mochila."
   ]
  },
  {
   "cell_type": "markdown",
   "metadata": {
    "id": "rYTasR9Ekdxm"
   },
   "source": [
    "<img src = res/pesos.png>"
   ]
  },
  {
   "cell_type": "markdown",
   "metadata": {
    "id": "5jJdqF0ukdxm"
   },
   "source": [
    "# 2.1. ENFOQUES ESTADÍSTICOS\n",
    "\n",
    "Se le asigna un puntaje estadístico a cada característica con base en una medición estadística, por ejemplo:\n",
    "\n",
    "- Varianza $\\sigma^2$\n",
    "- Chi-Cuadrado $\\chi^2$\n",
    "- Anova.\n",
    "- Entropia.\n",
    "- etc.\n",
    "\n",
    "Para ejemplificar los conceptos de selección de características, utilizaremos algunos casos más sencillos...\n",
    "\n",
    "## 2.1.1. SELECCIÓN DE CARACTERÍSTICAS POR VARIANZA"
   ]
  },
  {
   "cell_type": "code",
   "execution_count": 18,
   "metadata": {
    "id": "UPVoJWwXkdxm",
    "outputId": "7293bbaa-d67c-4fce-b093-9c2edbb5d782"
   },
   "outputs": [
    {
     "name": "stdout",
     "output_type": "stream",
     "text": [
      "Original features:  [[0 0 1]\n",
      " [0 1 0]\n",
      " [1 0 0]\n",
      " [0 1 1]\n",
      " [0 1 0]\n",
      " [0 1 1]]\n",
      "Selected features:  [[0 1]\n",
      " [1 0]\n",
      " [0 0]\n",
      " [1 1]\n",
      " [1 0]\n",
      " [1 1]]\n"
     ]
    }
   ],
   "source": [
    "import numpy as np\n",
    "from sklearn.feature_selection import VarianceThreshold\n",
    "\n",
    "#crear una array de numpy\n",
    "X = np.array([[0, 0, 1], [0, 1, 0], [1, 0, 0], [0, 1, 1], [0, 1, 0], [0, 1, 1]])\n",
    "\n",
    "#aplicar selector de características por varianza\n",
    "selector = VarianceThreshold(threshold=0.2)\n",
    "X_new = selector.fit_transform(X)\n",
    "print(\"Original features: \",X)\n",
    "print(\"Selected features: \",X_new)"
   ]
  },
  {
   "cell_type": "code",
   "execution_count": 20,
   "metadata": {
    "id": "73BAptx2kdxm",
    "outputId": "b245a658-1525-494a-ebba-0e0a9c0829c7"
   },
   "outputs": [
    {
     "name": "stdout",
     "output_type": "stream",
     "text": [
      "╒═════════════╤═════════════╤═════════════╤═════════════╕\n",
      "│   feature 1 │   feature 2 │   feature 3 │   feature 4 │\n",
      "╞═════════════╪═════════════╪═════════════╪═════════════╡\n",
      "│         5.1 │         3.5 │         1.4 │         0.2 │\n",
      "├─────────────┼─────────────┼─────────────┼─────────────┤\n",
      "│         4.9 │         3   │         1.4 │         0.2 │\n",
      "├─────────────┼─────────────┼─────────────┼─────────────┤\n",
      "│         4.7 │         3.2 │         1.3 │         0.2 │\n",
      "├─────────────┼─────────────┼─────────────┼─────────────┤\n",
      "│         4.6 │         3.1 │         1.5 │         0.2 │\n",
      "├─────────────┼─────────────┼─────────────┼─────────────┤\n",
      "│         5   │         3.6 │         1.4 │         0.2 │\n",
      "╘═════════════╧═════════════╧═════════════╧═════════════╛\n"
     ]
    }
   ],
   "source": [
    "from sklearn.datasets import load_iris\n",
    "from tabulate import tabulate\n",
    "\n",
    "#cargar un dataset de iris\n",
    "iris = load_iris()\n",
    "\n",
    "#extraer las características del dataset escogido\n",
    "X, y = iris.data, iris.target\n",
    "#imprimir una tabla\n",
    "headers = [\"feature 1\", \"feature 2\", \"feature 3\", \"feature 4\"]\n",
    "table = tabulate(X[0:5,:], headers, tablefmt=\"fancy_grid\")\n",
    "print(table)"
   ]
  },
  {
   "cell_type": "code",
   "execution_count": 21,
   "metadata": {
    "id": "rLb5iCUgkdxn",
    "outputId": "3fc28d7a-e0c1-44b8-c1a5-fb7f047e9098"
   },
   "outputs": [
    {
     "name": "stdout",
     "output_type": "stream",
     "text": [
      "Features selected:  [0 2]\n",
      "[ True False  True False]\n"
     ]
    }
   ],
   "source": [
    "selector = VarianceThreshold(threshold=0.6) #selección de características\n",
    "X_new = selector.fit_transform(X)\n",
    "\n",
    "sel_features = np.squeeze(np.where(selector.get_support()==True)) #Cuando es verdad la selección?\n",
    "\n",
    "#mostrar características seleccionadas\n",
    "print(\"Features selected: \", sel_features)\n",
    "print(selector.get_support())"
   ]
  },
  {
   "cell_type": "code",
   "execution_count": 22,
   "metadata": {
    "id": "hhaWUGuwkdxn",
    "outputId": "9d0cba35-c413-409f-dfa4-0b65ad7b0f33"
   },
   "outputs": [
    {
     "name": "stdout",
     "output_type": "stream",
     "text": [
      "╒═════════════╤═════════════╕\n",
      "│   feature 1 │   feature 3 │\n",
      "╞═════════════╪═════════════╡\n",
      "│         5.1 │         1.4 │\n",
      "├─────────────┼─────────────┤\n",
      "│         4.9 │         1.4 │\n",
      "├─────────────┼─────────────┤\n",
      "│         4.7 │         1.3 │\n",
      "├─────────────┼─────────────┤\n",
      "│         4.6 │         1.5 │\n",
      "├─────────────┼─────────────┤\n",
      "│         5   │         1.4 │\n",
      "╘═════════════╧═════════════╛\n"
     ]
    }
   ],
   "source": [
    "#imprimir las características seleccionadas como tablas\n",
    "headers = [\"feature \"+str(i+1) for i in sel_features]\n",
    "table = tabulate(X_new[0:5,], headers, tablefmt=\"fancy_grid\")\n",
    "print(table)"
   ]
  },
  {
   "cell_type": "code",
   "execution_count": 23,
   "metadata": {
    "id": "D3AGsAHbkdxn",
    "outputId": "52cac81c-a080-4925-8555-1becfcf36f09"
   },
   "outputs": [
    {
     "data": {
      "image/png": "[encoded data removed]",
      "text/plain": [
       "<Figure size 360x360 with 1 Axes>"
      ]
     },
     "metadata": {
      "needs_background": "light"
     },
     "output_type": "display_data"
    }
   ],
   "source": [
    "import matplotlib.pyplot as plt\n",
    "\n",
    "#Realizar la impresión de la característica 1 vs la característica 3 escogidas\n",
    "colors = ['navy', 'turquoise', 'darkorange']\n",
    "\n",
    "target_names = iris.target_names\n",
    "\n",
    "color = [colors[i] for i in y]\n",
    "label = [target_names[i] for i in y]\n",
    "\n",
    "plt.figure(figsize=(5,5))\n",
    "plt.title(\"Selected features using Variance Threshold\")\n",
    "\n",
    "plt.scatter(X_new[:, 0], X_new[:, 1], color=color)\n",
    "\n",
    "plt.xlabel(\"feature \"+str(sel_features[0]+1))\n",
    "plt.ylabel(\"feature \"+str(sel_features[1]+1))\n",
    "plt.show()"
   ]
  },
  {
   "cell_type": "markdown",
   "metadata": {
    "id": "fm3g0sFhkdxo"
   },
   "source": [
    "## 2.1.2. SELECCIÓN POR PRUEBA ESTADÍSTICA $\\chi^2$\n",
    "\n",
    "Se pueden utilizar técnicas estadísticas como chi-cuadrado $\\chi^2$ para seleccionar características. Esta prueba responde la siguiente pregunta:<br/><br/>\n",
    "\n",
    "<center> <font size=5>¿Qué tan independientes son las variables de la respuesta? </font></center>\n",
    "\n",
    "Se busca el mayor aporte de información/mayor correlación con respecto a la variable de respuesta.\n",
    "\n",
    "<br>\n",
    "\n"
   ]
  },
  {
   "cell_type": "code",
   "execution_count": 24,
   "metadata": {
    "id": "u6Fi7M-Akdxo",
    "outputId": "c52e5267-8432-41d0-f627-e00534422e1e"
   },
   "outputs": [
    {
     "data": {
      "text/plain": [
       "array([2, 3], dtype=int64)"
      ]
     },
     "execution_count": 24,
     "metadata": {},
     "output_type": "execute_result"
    }
   ],
   "source": [
    "from sklearn.datasets import load_iris\n",
    "from sklearn.feature_selection import SelectKBest\n",
    "from sklearn.feature_selection import chi2\n",
    "import matplotlib.pyplot as plt\n",
    "\n",
    "#realizar una lectura del dataset de iris\n",
    "iris = load_iris()\n",
    "\n",
    "X, y = iris.data, iris.target\n",
    "\n",
    "k=2 #best 2 independets features\n",
    "\n",
    "#Utilizar como selector de características los K vecinos mejores\n",
    "selector = SelectKBest(score_func=chi2, k=2)\n",
    "\n",
    "X_new = selector.fit_transform(X, y)\n",
    "\n",
    "sel_features = np.squeeze(np.where(selector.get_support()==True)) #Where selection is True?\n",
    "\n",
    "sel_features"
   ]
  },
  {
   "cell_type": "code",
   "execution_count": 25,
   "metadata": {
    "id": "EYFXuhxvkdxo",
    "outputId": "8515f3bc-c41e-4380-9ea0-06af211417fb"
   },
   "outputs": [
    {
     "data": {
      "image/png": "[encoded data removed]",
      "text/plain": [
       "<Figure size 360x360 with 1 Axes>"
      ]
     },
     "metadata": {
      "needs_background": "light"
     },
     "output_type": "display_data"
    }
   ],
   "source": [
    "#Imprimir features escogidos en forma gráfica\n",
    "colors = ['navy', 'turquoise', 'darkorange']\n",
    "\n",
    "target_names = iris.target_names\n",
    "\n",
    "color = [colors[i] for i in y]\n",
    "label = [target_names[i] for i in y]\n",
    "\n",
    "plt.figure(figsize=(5,5))\n",
    "plt.title(\"Selected features using Chi Squared Threshold\")\n",
    "\n",
    "plt.scatter(X_new[:, 0], X_new[:, 1], color=color)\n",
    "\n",
    "plt.xlabel(\"feature \"+str(sel_features[0]+1))\n",
    "plt.ylabel(\"feature \"+str(sel_features[1]+1))\n",
    "plt.show()"
   ]
  },
  {
   "cell_type": "markdown",
   "metadata": {
    "id": "65_jUQ_Gkdxp"
   },
   "source": [
    "# 3. WRAPPERS Y MODELOS EMBEBIDOS\n",
    "\n",
    "## 3.1. WRAPPERS\n",
    "\n",
    "Se utiliza un modelo predictivo para evaluar diferentes combinaciones de características a partir de un método de búsqueda. Por ejemplo: selección hacia adelante, selección hacia atrás, etc. Cuando un conjunto dado de combinaciones ha sido probado, se selecciona el mejor subconjunto de características.\n",
    "\n",
    "El método se ejecuta en k iteraciones de manera recursiva y el número de características es el definido por el usuario.\n",
    "\n",
    "<img src = res/wrapper.png>"
   ]
  },
  {
   "cell_type": "code",
   "execution_count": 26,
   "metadata": {
    "id": "HWTdzeIgkdxp"
   },
   "outputs": [],
   "source": [
    "from sklearn.datasets import load_digits\n",
    "from sklearn.feature_selection import RFE\n",
    "from sklearn.linear_model import LogisticRegression\n",
    "import matplotlib.pyplot as plt\n",
    "\n",
    "# Load the digits dataset\n",
    "digits = load_digits()\n",
    "X = digits.images.reshape((len(digits.images), -1))\n",
    "y = digits.target"
   ]
  },
  {
   "cell_type": "code",
   "execution_count": 27,
   "metadata": {
    "id": "VRkvRinmkdxp",
    "outputId": "b4bfd85f-b517-491e-d2f5-512ae605ce3e"
   },
   "outputs": [
    {
     "data": {
      "image/png": "[encoded data removed]",
      "text/plain": [
       "<Figure size 288x288 with 1 Axes>"
      ]
     },
     "metadata": {
      "needs_background": "light"
     },
     "output_type": "display_data"
    }
   ],
   "source": [
    "index = 234\n",
    "img = np.reshape(X[index,:], (8,8))\n",
    "label = y[index]\n",
    "# Plot pixel ranking\n",
    "plt.figure(figsize=(4,4))\n",
    "plt.imshow(img, cmap='gray')\n",
    "plt.title(\"A sample from digits dataset with label \"+str(label))\n",
    "plt.show()"
   ]
  },
  {
   "cell_type": "code",
   "execution_count": 28,
   "metadata": {
    "id": "eTYwxviRkdxp",
    "outputId": "1cc3aeb4-dc4f-4282-dc68-a36e69decd8f"
   },
   "outputs": [
    {
     "name": "stdout",
     "output_type": "stream",
     "text": [
      "[[33 18  1  2  1  1  1 20]\n",
      " [25  7  9  1  1 15  4 22]\n",
      " [21  8  5  1  1  1  1 24]\n",
      " [23 12  1  1  1  1  1 29]\n",
      " [32  1  6  1  1  1  1 31]\n",
      " [28  1  1  1  1 10  1 26]\n",
      " [27 14 13  1  1  1  3 17]\n",
      " [30 19  1  1 11  1  1 16]]\n"
     ]
    }
   ],
   "source": [
    "# Create the RFE object and rank each pixel\n",
    "model = LogisticRegression()\n",
    "rfe = RFE(estimator=model, n_features_to_select=32, step=1) #mejores 32 características\n",
    "rfe.fit(X, y)\n",
    "ranking = rfe.ranking_.reshape(digits.images[0].shape)\n",
    "print(ranking)"
   ]
  },
  {
   "cell_type": "code",
   "execution_count": 29,
   "metadata": {
    "id": "RMdJQih5kdxq",
    "outputId": "d72eb09d-1507-4fe9-ee69-251873916c11"
   },
   "outputs": [
    {
     "data": {
      "image/png": "[encoded data removed]",
      "text/plain": [
       "<Figure size 432x432 with 2 Axes>"
      ]
     },
     "metadata": {
      "needs_background": "light"
     },
     "output_type": "display_data"
    }
   ],
   "source": [
    "#Plotear el ranking de pixeles, los menores valores son los mejores\n",
    "plt.figure(figsize=(6,6))\n",
    "plt.imshow(ranking, cmap=plt.cm.Blues)\n",
    "plt.colorbar()\n",
    "plt.title(\"Ranking of pixels with RFE - low is best\", fontsize=10)\n",
    "plt.show()"
   ]
  },
  {
   "cell_type": "markdown",
   "metadata": {
    "id": "GByVApu2kdxq"
   },
   "source": [
    "## 3.2. MODELOS EMBEBIDOS\n",
    "\n",
    "Se hace uso del modelo predictivo para dos tareas al mismo tiempo: para evaluar el rendimiento del subconjunto y para **aprender** cual subconjunto es el mejor.\n",
    "\n",
    "Ejemplos: Regresiones con Penalización Lasso/Ridge, Arboles de Decisión.\n",
    "\n",
    "<img src = res/embebido.png>"
   ]
  },
  {
   "cell_type": "code",
   "execution_count": 30,
   "metadata": {
    "id": "jhi6KOohkdxq"
   },
   "outputs": [],
   "source": [
    "from sklearn.ensemble import ExtraTreesClassifier\n",
    "from sklearn.datasets import load_digits\n",
    "from sklearn.feature_selection import SelectFromModel"
   ]
  },
  {
   "cell_type": "code",
   "execution_count": 31,
   "metadata": {
    "id": "1q5iqO1Bkdxq",
    "outputId": "7eeef110-85a8-4537-a9f5-e965689c0ec9"
   },
   "outputs": [
    {
     "data": {
      "text/html": [
       "<style>#sk-container-id-1 {color: black;background-color: white;}#sk-container-id-1 pre{padding: 0;}#sk-container-id-1 div.sk-toggleable {background-color: white;}#sk-container-id-1 label.sk-toggleable__label {cursor: pointer;display: block;width: 100%;margin-bottom: 0;padding: 0.3em;box-sizing: border-box;text-align: center;}#sk-container-id-1 label.sk-toggleable__label-arrow:before {content: \"▸\";float: left;margin-right: 0.25em;color: #696969;}#sk-container-id-1 label.sk-toggleable__label-arrow:hover:before {color: black;}#sk-container-id-1 div.sk-estimator:hover label.sk-toggleable__label-arrow:before {color: black;}#sk-container-id-1 div.sk-toggleable__content {max-height: 0;max-width: 0;overflow: hidden;text-align: left;background-color: #f0f8ff;}#sk-container-id-1 div.sk-toggleable__content pre {margin: 0.2em;color: black;border-radius: 0.25em;background-color: #f0f8ff;}#sk-container-id-1 input.sk-toggleable__control:checked~div.sk-toggleable__content {max-height: 200px;max-width: 100%;overflow: auto;}#sk-container-id-1 input.sk-toggleable__control:checked~label.sk-toggleable__label-arrow:before {content: \"▾\";}#sk-container-id-1 div.sk-estimator input.sk-toggleable__control:checked~label.sk-toggleable__label {background-color: #d4ebff;}#sk-container-id-1 div.sk-label input.sk-toggleable__control:checked~label.sk-toggleable__label {background-color: #d4ebff;}#sk-container-id-1 input.sk-hidden--visually {border: 0;clip: rect(1px 1px 1px 1px);clip: rect(1px, 1px, 1px, 1px);height: 1px;margin: -1px;overflow: hidden;padding: 0;position: absolute;width: 1px;}#sk-container-id-1 div.sk-estimator {font-family: monospace;background-color: #f0f8ff;border: 1px dotted black;border-radius: 0.25em;box-sizing: border-box;margin-bottom: 0.5em;}#sk-container-id-1 div.sk-estimator:hover {background-color: #d4ebff;}#sk-container-id-1 div.sk-parallel-item::after {content: \"\";width: 100%;border-bottom: 1px solid gray;flex-grow: 1;}#sk-container-id-1 div.sk-label:hover label.sk-toggleable__label {background-color: #d4ebff;}#sk-container-id-1 div.sk-serial::before {content: \"\";position: absolute;border-left: 1px solid gray;box-sizing: border-box;top: 0;bottom: 0;left: 50%;z-index: 0;}#sk-container-id-1 div.sk-serial {display: flex;flex-direction: column;align-items: center;background-color: white;padding-right: 0.2em;padding-left: 0.2em;position: relative;}#sk-container-id-1 div.sk-item {position: relative;z-index: 1;}#sk-container-id-1 div.sk-parallel {display: flex;align-items: stretch;justify-content: center;background-color: white;position: relative;}#sk-container-id-1 div.sk-item::before, #sk-container-id-1 div.sk-parallel-item::before {content: \"\";position: absolute;border-left: 1px solid gray;box-sizing: border-box;top: 0;bottom: 0;left: 50%;z-index: -1;}#sk-container-id-1 div.sk-parallel-item {display: flex;flex-direction: column;z-index: 1;position: relative;background-color: white;}#sk-container-id-1 div.sk-parallel-item:first-child::after {align-self: flex-end;width: 50%;}#sk-container-id-1 div.sk-parallel-item:last-child::after {align-self: flex-start;width: 50%;}#sk-container-id-1 div.sk-parallel-item:only-child::after {width: 0;}#sk-container-id-1 div.sk-dashed-wrapped {border: 1px dashed gray;margin: 0 0.4em 0.5em 0.4em;box-sizing: border-box;padding-bottom: 0.4em;background-color: white;}#sk-container-id-1 div.sk-label label {font-family: monospace;font-weight: bold;display: inline-block;line-height: 1.2em;}#sk-container-id-1 div.sk-label-container {text-align: center;}#sk-container-id-1 div.sk-container {/* jupyter's `normalize.less` sets `[hidden] { display: none; }` but bootstrap.min.css set `[hidden] { display: none !important; }` so we also need the `!important` here to be able to override the default hidden behavior on the sphinx rendered scikit-learn.org. See: https://github.com/scikit-learn/scikit-learn/issues/21755 */display: inline-block !important;position: relative;}#sk-container-id-1 div.sk-text-repr-fallback {display: none;}</style><div id=\"sk-container-id-1\" class=\"sk-top-container\"><div class=\"sk-text-repr-fallback\"><pre>ExtraTreesClassifier()</pre><b>In a Jupyter environment, please rerun this cell to show the HTML representation or trust the notebook. <br />On GitHub, the HTML representation is unable to render, please try loading this page with nbviewer.org.</b></div><div class=\"sk-container\" hidden><div class=\"sk-item\"><div class=\"sk-estimator sk-toggleable\"><input class=\"sk-toggleable__control sk-hidden--visually\" id=\"sk-estimator-id-1\" type=\"checkbox\" checked><label for=\"sk-estimator-id-1\" class=\"sk-toggleable__label sk-toggleable__label-arrow\">ExtraTreesClassifier</label><div class=\"sk-toggleable__content\"><pre>ExtraTreesClassifier()</pre></div></div></div></div></div>"
      ],
      "text/plain": [
       "ExtraTreesClassifier()"
      ]
     },
     "execution_count": 31,
     "metadata": {},
     "output_type": "execute_result"
    }
   ],
   "source": [
    "#load digits dataset\n",
    "digits = load_digits()\n",
    "X = digits.images.reshape((len(digits.images), -1))\n",
    "y = digits.target\n",
    "\n",
    "#train prediction model\n",
    "predictor = ExtraTreesClassifier()\n",
    "predictor.fit(X, y)"
   ]
  },
  {
   "cell_type": "code",
   "execution_count": 32,
   "metadata": {
    "id": "Z4VTlgtLkdxr"
   },
   "outputs": [],
   "source": [
    "model = SelectFromModel(predictor, threshold=0.02, prefit=True)\n",
    "X_new = model.transform(X) #dataset with selected features"
   ]
  },
  {
   "cell_type": "code",
   "execution_count": 33,
   "metadata": {
    "id": "bjcXa1K6kdxr"
   },
   "outputs": [],
   "source": [
    "selection = model.get_support()\n",
    "selection_map = np.reshape(selection, (8,8))\n",
    "\n",
    "num_selected_features = np.count_nonzero(selection)"
   ]
  },
  {
   "cell_type": "code",
   "execution_count": 34,
   "metadata": {
    "id": "i_h5f1hskdxs",
    "outputId": "ad6a97b7-7e8e-4823-81b3-fa0cbac0489b"
   },
   "outputs": [
    {
     "data": {
      "image/png": "[encoded data removed]",
      "text/plain": [
       "<Figure size 432x432 with 1 Axes>"
      ]
     },
     "metadata": {
      "needs_background": "light"
     },
     "output_type": "display_data"
    }
   ],
   "source": [
    "# Plot pixel ranking\n",
    "plt.figure(figsize=(6,6))\n",
    "plt.imshow(selection_map, cmap='gray')\n",
    "plt.title(\"Selection of \"+str(num_selected_features)+\" most important features using SfM\", fontsize=10)\n",
    "plt.show()"
   ]
  },
  {
   "cell_type": "markdown",
   "metadata": {
    "id": "wFOYcqLokdxs"
   },
   "source": [
    "# 4. TRANSFORMACIONES PARA REDUCCIÓN\n",
    "\n",
    "La transformación de características consiste en obtener un conjunto de características G a partir de una transformación lineal o no-lineal de un conjunto de datos X.\n",
    "\n",
    "<img src = res/redu.png>\n"
   ]
  },
  {
   "cell_type": "markdown",
   "metadata": {
    "id": "78Gb3YPrkdxs"
   },
   "source": [
    "## 4.1. ANÁLISIS DE COMPONENTES PRINCIPALES (PCA)\n",
    "\n",
    "Esta técnica consiste en proyectar un conjunto de datos sobre un hiperespacio compuesto por las dimensiones principales de los datos.\n",
    "\n",
    "¿Cuáles $\\lambda_i \\in V$ son mejores?\n",
    "\n",
    "<img src = res/pers.png>"
   ]
  },
  {
   "cell_type": "code",
   "execution_count": 35,
   "metadata": {
    "id": "FmgfrGSvkdxt",
    "outputId": "bfa27dd8-c1d7-47eb-abe9-0f87de1eb204"
   },
   "outputs": [
    {
     "data": {
      "text/plain": [
       "Text(0.5, 0, '$f_2$')"
      ]
     },
     "execution_count": 35,
     "metadata": {},
     "output_type": "execute_result"
    },
    {
     "data": {
      "image/png": "[encoded data removed]",
      "text/plain": [
       "<Figure size 648x504 with 1 Axes>"
      ]
     },
     "metadata": {
      "needs_background": "light"
     },
     "output_type": "display_data"
    }
   ],
   "source": [
    "#generate a test dataset\n",
    "%matplotlib inline\n",
    "import numpy as np\n",
    "import matplotlib.pyplot as plt\n",
    "from mpl_toolkits.mplot3d import Axes3D\n",
    "\n",
    "np.random.seed(4)\n",
    "m = 60\n",
    "w1, w2 = 0.1, 0.3\n",
    "noise = 0.1\n",
    "\n",
    "angles = np.random.rand(m) * 3 * np.pi / 2 - 0.5\n",
    "X = np.empty((m, 3))\n",
    "X[:, 0] = np.cos(angles) + np.sin(angles)/2 + noise * np.random.randn(m) / 2\n",
    "X[:, 1] = np.sin(angles) * 0.7 + noise * np.random.randn(m) / 2\n",
    "X[:, 2] = X[:, 0] * w1 + X[:, 1] * w2 + noise * np.random.randn(m)\n",
    "\n",
    "fig = plt.figure(figsize=(9,7))\n",
    "ax = fig.add_subplot(111, projection='3d')\n",
    "ax.scatter(X[:,0], X[:,1], X[:,2])\n",
    "\n",
    "ax.set_title(\"Input dataset\")\n",
    "ax.set_xlabel(r'$f_0$', fontsize=15)\n",
    "ax.set_ylabel(r'$f_1$', fontsize=15)\n",
    "ax.set_zlabel(r'$f_2$', fontsize=15)"
   ]
  },
  {
   "cell_type": "markdown",
   "metadata": {
    "id": "pGy1-RcLkdxt"
   },
   "source": [
    "##  4.2. PCA USANDO DESCOMPOSICIÓN EN VALORES SINGULARES\n",
    "\n",
    "Los valores propios pueden ser extraidos usando una factorización de matrices. Por ejemplo, la descomposición en valores singulares, que se puede expresar como:\n",
    "\n",
    "\n",
    "\n",
    "$X = U \\cdot \\sum \\cdot V^T$\n",
    "\n",
    "Donde $V$ es la matriz que contiene los valores propios de $X$\n",
    "\n",
    "$\n",
    "\\mathbf{V} =\n",
    "\\begin{pmatrix}\n",
    "  \\mid & \\mid & & \\mid \\\\\n",
    "  \\mathbf{c_1} & \\mathbf{c_2} & \\cdots & \\mathbf{c_n} \\\\\n",
    "  \\mid & \\mid & & \\mid\n",
    "\\end{pmatrix}\n",
    "$"
   ]
  },
  {
   "cell_type": "code",
   "execution_count": 36,
   "metadata": {
    "id": "rKvxP_sgkdxt"
   },
   "outputs": [],
   "source": [
    "from numpy.linalg import svd\n",
    "\n",
    "# Apply Single Value Decomposition over X\n",
    "X_centered = X - X.mean(axis=0)\n",
    "U, s, Vt = svd(X_centered) "
   ]
  },
  {
   "cell_type": "code",
   "execution_count": 37,
   "metadata": {
    "id": "Si5nNty5kdxu",
    "outputId": "103c7965-4b1c-4238-cbad-a88f11d8f59d"
   },
   "outputs": [
    {
     "name": "stdout",
     "output_type": "stream",
     "text": [
      "[[ 0.93636116  0.29854881  0.18465208]\n",
      " [-0.34027485  0.90119108  0.2684542 ]\n",
      " [-0.08626012 -0.31420255  0.94542898]]\n"
     ]
    }
   ],
   "source": [
    "print(Vt) #valores propios"
   ]
  },
  {
   "cell_type": "markdown",
   "metadata": {
    "id": "qb3IZlS9kdxu"
   },
   "source": [
    "Una vez extraida $V$, podemos proyectar la matriz X sobre uno o más valores propios o componentes principales para reducir la dimensionalidad de X:\n",
    "\n",
    "$ X_{new} = X \\cdot V^{'} $"
   ]
  },
  {
   "cell_type": "code",
   "execution_count": 38,
   "metadata": {
    "id": "BHTYFVo8kdxu"
   },
   "outputs": [],
   "source": [
    "#Project X over first principal components\n",
    "\n",
    "V_prime = Vt.T[:, :2]\n",
    "X2D = np.dot(X_centered, V_prime)"
   ]
  },
  {
   "cell_type": "code",
   "execution_count": 39,
   "metadata": {
    "id": "rQQVYY5Ykdxu",
    "outputId": "356ff98d-0231-4efe-eaca-178d5f276c55"
   },
   "outputs": [
    {
     "data": {
      "image/png": "[encoded data removed]",
      "text/plain": [
       "<Figure size 432x288 with 1 Axes>"
      ]
     },
     "metadata": {
      "needs_background": "light"
     },
     "output_type": "display_data"
    }
   ],
   "source": [
    "plt.title(\"Reduced Dataset\")\n",
    "plt.scatter(X2D[:,0], X2D[:,1])\n",
    "#Puede ser interpretado como la sombra.\n",
    "plt.xlabel(r'$\\lambda^0$')\n",
    "plt.ylabel(r'$\\lambda^1$')\n",
    "plt.show()"
   ]
  },
  {
   "cell_type": "markdown",
   "metadata": {
    "id": "0HimWCQskdxu"
   },
   "source": [
    "## 4.3. PCA USANDO SCIKIT-LEARN\n",
    "\n"
   ]
  },
  {
   "cell_type": "code",
   "execution_count": 40,
   "metadata": {
    "id": "rRYcHVnCkdxv"
   },
   "outputs": [],
   "source": [
    "from sklearn.decomposition import PCA\n",
    "\n",
    "#Aplicar PCA con 2 componentes sobre X\n",
    "pca = PCA(n_components = 2)\n",
    "X2D = pca.fit_transform(X)"
   ]
  },
  {
   "cell_type": "code",
   "execution_count": 41,
   "metadata": {
    "id": "2umuZhbVkdxv",
    "outputId": "7ea39325-e794-4106-81be-06d975d0376e"
   },
   "outputs": [
    {
     "name": "stdout",
     "output_type": "stream",
     "text": [
      "First 2 components by SVD:  [[ 0.93636116  0.29854881  0.18465208]\n",
      " [-0.34027485  0.90119108  0.2684542 ]]\n",
      "First 2 components by Scikit:  [[-0.93636116 -0.29854881 -0.18465208]\n",
      " [ 0.34027485 -0.90119108 -0.2684542 ]]\n"
     ]
    }
   ],
   "source": [
    "print(\"First 2 components by SVD: \",Vt[:2])\n",
    "print(\"First 2 components by Scikit: \", pca.components_)"
   ]
  },
  {
   "cell_type": "markdown",
   "metadata": {
    "id": "_W_Rg0gCkdxv"
   },
   "source": [
    "Apliquemos PCA sobre el conjunto de datos Iris."
   ]
  },
  {
   "cell_type": "code",
   "execution_count": 42,
   "metadata": {
    "id": "13v2Qs6Xkdxv"
   },
   "outputs": [],
   "source": [
    "iris = load_iris()\n",
    "X, y = iris.data, iris.target\n",
    "k=2 #Primeros 2 componentes principales\n",
    "\n",
    "#Aplicar PCA sobre X\n",
    "pca = PCA(n_components=k)\n",
    "X_new = pca.fit_transform(X)"
   ]
  },
  {
   "cell_type": "code",
   "execution_count": 43,
   "metadata": {
    "id": "nQtA6HTrkdxv",
    "outputId": "342332e9-6a96-4c5b-d737-13cd6e10f62a"
   },
   "outputs": [
    {
     "data": {
      "image/png": "[encoded data removed]",
      "text/plain": [
       "<Figure size 360x360 with 1 Axes>"
      ]
     },
     "metadata": {
      "needs_background": "light"
     },
     "output_type": "display_data"
    }
   ],
   "source": [
    "#Imprimir los dos componentes principales \n",
    "colors = ['navy', 'turquoise', 'darkorange']\n",
    "\n",
    "target_names = iris.target_names\n",
    "\n",
    "color = [colors[i] for i in y]\n",
    "label = [target_names[i] for i in y]\n",
    "\n",
    "plt.figure(figsize=(5,5))\n",
    "plt.title(\"Iris dataset projection over first 2 PC\")\n",
    "\n",
    "plt.scatter(X_new[:, 0], X_new[:, 1], color=color)\n",
    "\n",
    "plt.xlabel(r'$\\lambda_0$', fontsize=15)\n",
    "plt.ylabel(r'$\\lambda_1$', fontsize=15)\n",
    "plt.show()"
   ]
  },
  {
   "cell_type": "markdown",
   "metadata": {
    "id": "4vmRY1sqkdxv"
   },
   "source": [
    "<hr>\n",
    "\n",
    "## 4.4. PCA NO-LINEAL / KERNEL PCA\n",
    "\n",
    "En casos más complejos, podemos utilizar funciones matemáticas no-lineales o de kernel para realizar transformaciones complejas en los datos."
   ]
  },
  {
   "cell_type": "code",
   "execution_count": 44,
   "metadata": {
    "id": "jvwXiDBikdxw"
   },
   "outputs": [],
   "source": [
    "from sklearn.datasets import make_circles"
   ]
  },
  {
   "cell_type": "code",
   "execution_count": 45,
   "metadata": {
    "id": "pcSW0_U2kdxw"
   },
   "outputs": [],
   "source": [
    "#Seleccionar la semilla\n",
    "np.random.seed(0)\n",
    "X, y = make_circles(n_samples=400, factor=.3, noise=.05)"
   ]
  },
  {
   "cell_type": "code",
   "execution_count": 46,
   "metadata": {
    "id": "kpx-RVvxkdxw",
    "outputId": "d277633e-11e3-48fe-933f-fc21ec6ceefb"
   },
   "outputs": [
    {
     "data": {
      "image/png": "[encoded data removed]",
      "text/plain": [
       "<Figure size 360x360 with 1 Axes>"
      ]
     },
     "metadata": {
      "needs_background": "light"
     },
     "output_type": "display_data"
    }
   ],
   "source": [
    "#Imprimir los datos escogidos\n",
    "colors = ['navy', 'darkorange']\n",
    "\n",
    "target_names = iris.target_names\n",
    "\n",
    "color = [colors[i] for i in y]\n",
    "label = [target_names[i] for i in y]\n",
    "\n",
    "plt.figure(figsize=(5,5))\n",
    "plt.title(\"Circle dataset\")\n",
    "\n",
    "plt.scatter(X[:, 0], X[:, 1], color=color)\n",
    "\n",
    "plt.xlabel(r'$f_0$', fontsize=15)\n",
    "plt.ylabel(r'$f_1$', fontsize=15)\n",
    "plt.show()"
   ]
  },
  {
   "cell_type": "markdown",
   "metadata": {
    "id": "UYY1cLhZkdxw"
   },
   "source": [
    "Evaluemos el resultado de un PCA simple."
   ]
  },
  {
   "cell_type": "code",
   "execution_count": 47,
   "metadata": {
    "id": "xd1xeBgOkdxx"
   },
   "outputs": [],
   "source": [
    "#Aplicar PCA sobre el set de datos\n",
    "pca = PCA(n_components=1)\n",
    "X_new = pca.fit_transform(X)"
   ]
  },
  {
   "cell_type": "code",
   "execution_count": 48,
   "metadata": {
    "id": "mAs4OpWtkdxx",
    "outputId": "d9484132-8a38-4d57-ff74-24d7fbbe4eaa"
   },
   "outputs": [
    {
     "data": {
      "image/png": "[encoded data removed]",
      "text/plain": [
       "<Figure size 360x360 with 1 Axes>"
      ]
     },
     "metadata": {
      "needs_background": "light"
     },
     "output_type": "display_data"
    }
   ],
   "source": [
    "#Imprimirlo como una imagen 2D\n",
    "colors = ['navy', 'darkorange']\n",
    "\n",
    "target_names = iris.target_names\n",
    "\n",
    "color = [colors[i] for i in y]\n",
    "label = [target_names[i] for i in y]\n",
    "\n",
    "plt.figure(figsize=(5,5))\n",
    "plt.title(\"Circle dataset\")\n",
    "\n",
    "plt.scatter(np.linspace(0,len(X_new),len(X_new)), X_new, color=color)\n",
    "\n",
    "plt.ylabel(r'$\\lambda$', fontsize=15)\n",
    "plt.show()"
   ]
  },
  {
   "cell_type": "markdown",
   "metadata": {
    "id": "8Ksn3-WRkdxy"
   },
   "source": [
    "Ahora con Kernel PCA:"
   ]
  },
  {
   "cell_type": "code",
   "execution_count": 49,
   "metadata": {
    "id": "6_U0Z60vkdxy",
    "outputId": "80b04c53-94e4-4523-dbfd-64e2c2872f14"
   },
   "outputs": [
    {
     "data": {
      "image/png": "[encoded data removed]",
      "text/plain": [
       "<Figure size 360x360 with 1 Axes>"
      ]
     },
     "metadata": {
      "needs_background": "light"
     },
     "output_type": "display_data"
    }
   ],
   "source": [
    "from sklearn.decomposition import KernelPCA\n",
    "\n",
    "#Aplicar un kernel PCA no lineal e imprimirlo\n",
    "kpca = KernelPCA(kernel=\"rbf\", fit_inverse_transform=True, gamma=10)\n",
    "X_kpca = kpca.fit_transform(X)\n",
    "\n",
    "colors = ['navy', 'darkorange']\n",
    "\n",
    "color = [colors[i] for i in y]\n",
    "\n",
    "plt.figure(figsize=(5,5))\n",
    "plt.title(\"Circle dataset\")\n",
    "\n",
    "plt.scatter(X_kpca[:, 0], X_kpca[:, 1], color=color)\n",
    "\n",
    "plt.xlabel(r'$\\lambda_0$', fontsize=15)\n",
    "plt.ylabel(r'$\\lambda_1$', fontsize=15)\n",
    "plt.show()"
   ]
  },
  {
   "cell_type": "markdown",
   "metadata": {
    "id": "yo5Xtisekdxy"
   },
   "source": [
    "## 4.5. OTRAS APLICACIONES DE PCA:\n",
    "\n",
    "En el siguiente enlace se presenta un ejemplo de aplicación de PCA para la reducción de características en imágenes de rostros:\n",
    "\n",
    "https://alceballosa.shinyapps.io/Trabajo3/"
   ]
  },
  {
   "cell_type": "markdown",
   "metadata": {
    "id": "gosg6JGSkdxy"
   },
   "source": [
    "#  5. INTRODUCCIÓN AL RECONOCIMIENTO DE PATRONES"
   ]
  },
  {
   "cell_type": "markdown",
   "metadata": {
    "id": "kaStABwekdxz"
   },
   "source": [
    "<img src = res/patron.png>"
   ]
  },
  {
   "cell_type": "markdown",
   "metadata": {
    "id": "EuQ01-_Nkdxz"
   },
   "source": [
    "El Reconocimiento de Patrones es la última etapa dentro de un sistema de visión artificial, en la que a partir de las características encontradas, los posibles objetos se clasifican en dos o más clases.\n",
    "\n",
    "<img src = res/neural.png>\n",
    "\n",
    "Clasificar (o reconocer) significa, en este contexto, asociar a clases (o prototipos) una serie de elementos (u objetos). Esta asociación se realiza en base a las características o propiedades de los objetos.\n"
   ]
  },
  {
   "cell_type": "markdown",
   "metadata": {
    "id": "Uicj7X7pkdxz"
   },
   "source": [
    "<img src = res/ia.png>"
   ]
  },
  {
   "cell_type": "markdown",
   "metadata": {
    "id": "V36lKK0okdxz"
   },
   "source": [
    "<img src = res/class.png>"
   ]
  },
  {
   "cell_type": "markdown",
   "metadata": {
    "id": "9Apm3wX4kdx0"
   },
   "source": [
    "Importante: Si los descriptores elegidos son adecuados, objetos similares tendrán patrones próximos en el espacio de características.\n",
    "\n",
    "- Patrones que describen objetos de una misma clase, presentan características similares.\n",
    "- Patrones que describen objetos de diferentes clases presentan características diferenciadas.\n",
    "\n",
    "<img src = res/diff.png>"
   ]
  },
  {
   "cell_type": "markdown",
   "metadata": {
    "id": "EDTdoPJHkdx0"
   },
   "source": [
    "#  5.1. TIPOS DE CLASIFICADOR\n",
    "\n",
    "\n",
    "Atendiendo a la información que se proporciona en el proceso de construcción del clasificador se puede hablar de dos tipos de clasificadores: supervisados y No supervisados:\n",
    "\n",
    "- Clasificadores NO Supervisados: sin la necesidad de ningún supervisor externo, el clasificador determina las clases que representan los datos de entrenamiento.\n",
    "\n",
    "- Clasificadores Supervisados: el conjunto de entrenamiento es dividido por el maestro en las diferentes clases ya conocidas en las que se desea clasificar, así el clasificador aprende las características que definen cada clase.\n",
    "\n",
    "Hoy nos centraremos en los clasificadores supervisados."
   ]
  },
  {
   "cell_type": "markdown",
   "metadata": {
    "id": "74pidEizkdx0"
   },
   "source": [
    "# 5.1.1. MODELO GENERAL DE UN CLASIFICADOR SUPERVISADO.\n",
    "\n",
    "Aplicar una función de predicción en una representación de las características de la imagen para obtener el resultado deseado\n",
    "\n",
    "<img src = res/supervisado.png>"
   ]
  },
  {
   "cell_type": "markdown",
   "metadata": {
    "id": "rSAY6WRNkdx0"
   },
   "source": [
    "- Entrenamiento: dado un conjunto de ejemplos {(x1, y1), ..., (xn, yn)}, calcular la predicción de la función f, reduciendo al mínimo el error de predicción en el conjunto de entrenamiento.\n"
   ]
  },
  {
   "cell_type": "markdown",
   "metadata": {
    "id": "jVx0rvyTkdx0"
   },
   "source": [
    "<img src = res/train.png>"
   ]
  },
  {
   "cell_type": "markdown",
   "metadata": {
    "id": "FJ3Mn7M8kdx1"
   },
   "source": [
    "# 5.1.2. ALGUNOS CLASIFICADORES SUPERVISADOS\n",
    "\n",
    "Los métodos para clasificación supervisada son muy diversos. Entre ellos se encuentran:\n",
    "\n",
    "- Regresión Logística.\n",
    "- Clasificadores Bayesianos.\n",
    "- Máquinas de Soporte Vectorial.\n",
    "- Redes Neuronales.\n",
    "- Árboles de Decisión/Bosques Aleatorios.\n",
    "- K-Vecinos más cercanos. \n",
    "\n",
    "En el día de hoy nos centraremos en uno de los métodos más básicos: **regresión logística.** Antes, sin embargo, introduciremos algunos conceptos básicos con base en la regresión lineal. "
   ]
  },
  {
   "cell_type": "markdown",
   "metadata": {
    "id": "2gTwft6kkdx1"
   },
   "source": [
    "# 5.1.3. REGRESIÓN LINEAL\n",
    "\n",
    "La regresión lineal permite estimar una variable de respuesta continua a partir de un conjunto de variables (atributos o características) de entrada $x_i$, unos pesos $W_i$ y un sesgo/intercepto $b$.\n",
    "\n",
    "Se define de la siguiente manera para el dataset entero:\n",
    "\n",
    "## $a = W^{T}\\cdot x + b $\n",
    "\n",
    "Lo que equivale a:\n",
    "\n",
    "## $a = \\sum_{j=1}^n w_j x_j + b $\n",
    "\n",
    "\n",
    "Donde $a$ es el valor predicho, $x$ es el arreglo con las instancias de entrada y $W$ es el arreglo con los pesos asignados.\n",
    "\n",
    "$w_i$ es el peso asignado a la característica $x_i$, es decir, $n$ = número de características.\n",
    "\n",
    "Una posibilidad para definir la función de perdida es el error cuadrático medio:\n",
    "\n",
    "## $L = \\frac{1}{m} \\sum_{i=1}^m (y_i - a_i)^2 $"
   ]
  },
  {
   "cell_type": "markdown",
   "metadata": {
    "id": "jFSIPJd3kdx1"
   },
   "source": [
    "### DETALLES DE IMPLEMENTACIÓN:\n",
    "\n",
    "* $X$ es una matriz de $n$ filas y $m$ columnas, donde $n$ es el número de atributos y $m$ es el número de instancias en el conjunto de datos.\n",
    "\n",
    "* $Y$ es un vector fila de 1 fila  y $m$ columnas."
   ]
  },
  {
   "cell_type": "code",
   "execution_count": 50,
   "metadata": {
    "id": "9gfEFVztkdx1"
   },
   "outputs": [],
   "source": [
    "#Generar array X e Y\n",
    "\n",
    "X = np.array([[0.1087,  0.2698,  0.3765,  0.2146,  0.9155,  \n",
    "     0.0246,  0.0221,  0.8632,  0.6460,  0.2092,  \n",
    "     0.8567,  0.1591,  0.9647,  0.6231,  0.7460,  \n",
    "     0.3654,  0.3065,  0.6886,  0.4966,  0.2008,  \n",
    "     0.2618,  0.7607,  0.1563,  0.4424,  0.7731]])\n",
    "\n",
    "Y = np.array([[0.9519,  1.1237,  1.2360,  1.0526,  2.0743,\n",
    "     0.7906,  0.7603,  2.0533,  1.6887,  1.0563,\n",
    "     2.0991,  0.8953,  2.1917,  1.6266,  1.8508,\n",
    "     1.2828,  1.2283,  1.8722,  1.4657,  1.0418,\n",
    "     1.1097,  1.7826,  0.9711,  1.4267,  1.8248]])"
   ]
  },
  {
   "cell_type": "code",
   "execution_count": 51,
   "metadata": {
    "id": "8aurlVlOkdx1",
    "outputId": "180ed7a0-dbcb-4878-8ad7-402b0a5ffd93"
   },
   "outputs": [
    {
     "name": "stdout",
     "output_type": "stream",
     "text": [
      "(1, 25)\n",
      "(1, 25)\n"
     ]
    }
   ],
   "source": [
    "#Imprimir el tamaño de X e Y\n",
    "print(X.shape)\n",
    "print(Y.shape)"
   ]
  },
  {
   "cell_type": "code",
   "execution_count": 52,
   "metadata": {
    "id": "6CnVW_Qykdx1",
    "outputId": "0f9b7e10-d060-4c07-871e-63e965fb9f18"
   },
   "outputs": [
    {
     "data": {
      "text/plain": [
       "<matplotlib.collections.PathCollection at 0x16644fc2fd0>"
      ]
     },
     "execution_count": 52,
     "metadata": {},
     "output_type": "execute_result"
    },
    {
     "data": {
      "image/png": "[encoded data removed]",
      "text/plain": [
       "<Figure size 432x288 with 1 Axes>"
      ]
     },
     "metadata": {
      "needs_background": "light"
     },
     "output_type": "display_data"
    }
   ],
   "source": [
    "#Plotear con matplotlib X vs Y\n",
    "plt.scatter(X, Y)"
   ]
  },
  {
   "cell_type": "markdown",
   "metadata": {
    "id": "p8GsgzqOkdx1"
   },
   "source": [
    "* W es un vector de pesos con la forma (n, 1), que puede ser inicializado en 0 o aleatoriamente."
   ]
  },
  {
   "cell_type": "code",
   "execution_count": 53,
   "metadata": {
    "id": "S53Mvb_Skdx1"
   },
   "outputs": [],
   "source": [
    "#Vectorizar el problema\n",
    "n = X.shape[0]\n",
    "m = X.shape[1]\n",
    "W = np.ones((n,1))\n",
    "b = 0"
   ]
  },
  {
   "cell_type": "code",
   "execution_count": 54,
   "metadata": {
    "id": "7xXHnfFSkdx2",
    "outputId": "7aee62da-d7a8-458e-804c-8c4195c46ad5"
   },
   "outputs": [
    {
     "name": "stdout",
     "output_type": "stream",
     "text": [
      "0.9454462316\n"
     ]
    },
    {
     "data": {
      "text/plain": [
       "[<matplotlib.lines.Line2D at 0x16642622670>]"
      ]
     },
     "execution_count": 54,
     "metadata": {},
     "output_type": "execute_result"
    },
    {
     "data": {
      "image/png": "[encoded data removed]",
      "text/plain": [
       "<Figure size 432x288 with 1 Axes>"
      ]
     },
     "metadata": {
      "needs_background": "light"
     },
     "output_type": "display_data"
    }
   ],
   "source": [
    "#Probemos a predecir a partir del vector de pesos inicial...\n",
    "\n",
    "A = np.dot(W.T, X) + b\n",
    "L = np.sum(np.power(Y-A,2))/m\n",
    "print(L)\n",
    "plt.scatter(X, Y)\n",
    "plt.plot(X[0], A[0], 'r-')\n"
   ]
  },
  {
   "cell_type": "markdown",
   "metadata": {
    "id": "Nh8VJovtkdx2"
   },
   "source": [
    "# AJUSTANDO LOS PESOS MEDIANTE DESCENSO POR GRADIENTE\n",
    "\n",
    "Para obtener los pesos que minimicen el error aplicaremos la técnica iterativa conocida como descenso por gradiente.\n",
    "\n",
    "<img src = res/height.png>\n",
    "\n",
    "\n",
    "### REGLA DE ACTUALIZACIÓN DE PESOS:\n",
    "\n",
    "Actualizaremos los pesos y el intercepto a partir de la siguiente regla:\n",
    "\n",
    "$ W_{new} = W - \\rho \\Delta W $\n",
    "\n",
    "$ b_{new} = b - \\rho \\Delta b $\n",
    "\n",
    "Donde $\\rho$ es una tasa de aprendizaje que determina qué tanto modificaremos los pesos según el valor de $\\Delta W$.\n"
   ]
  },
  {
   "cell_type": "markdown",
   "metadata": {
    "id": "2a-LrOgUkdx2"
   },
   "source": [
    "### CALCULO DE $\\Delta W$  y $\\Delta b$\n",
    "\n",
    "El cambio para un peso w está definido como la derivada parcial de la función de perdida $L$ con respecto a ese peso.\n",
    "\n",
    "### $ \\Delta w_j  = \\frac{ \\partial L }{\\partial w_j}  $\n",
    "\n",
    "Por regla de la cadena..\n",
    "### $\\frac{ \\partial L }{\\partial w_j}  = \\frac{\\partial a}{\\partial w_j} \\frac{\\partial L}{\\partial a} $ "
   ]
  },
  {
   "cell_type": "markdown",
   "metadata": {
    "id": "sJ3dPC0zkdx3"
   },
   "source": [
    "\n",
    "\n",
    "### $L = \\frac{1}{m}  \\sum_{i=1}^m (y_i - a_i)^2 $\n",
    "\n",
    "### $\\frac{ \\partial L }{ \\partial a} = - \\frac{2}{m} \\sum_{i=1}^m (y_i - a_i) $\n"
   ]
  },
  {
   "cell_type": "markdown",
   "metadata": {
    "id": "swxdARjMkdx4"
   },
   "source": [
    "### $a = \\sum_{j=1}^n w_j x_j + b $\n",
    "\n",
    "### $\\frac{ \\partial a }{ \\partial w_j} = x_{i,j} $"
   ]
  },
  {
   "cell_type": "markdown",
   "metadata": {
    "id": "ql-QPg0Skdx5"
   },
   "source": [
    "### $\\frac{ \\partial L }{\\partial w_j}  =  - \\frac{2}{m} \\sum_{i=1}^m (y_i - a_i)  x_{i,j} $\n",
    "\n",
    "### $\\frac{ \\partial L }{\\partial w_j}  =  - \\frac{2}{m} \\sum_{i=1}^m (y_i - a_i) x_{i,j} $\n",
    "\n",
    "Lo anterior puede reducirse aplicando algebra matricial a...\n",
    "\n",
    "### $\\frac{ \\partial L }{\\partial W}  =  - \\frac{2}{m}  (Y - A) \\cdot X^T $\n",
    "\n",
    "Y analogamente:\n",
    "\n",
    "### $\\frac{ \\partial L }{\\partial b}  =  - \\frac{2}{m} \\sum_{i=1}^m (y_i - a_i)  $"
   ]
  },
  {
   "cell_type": "markdown",
   "metadata": {
    "id": "gkxaaVewkdx5"
   },
   "source": [
    "Nota: En el código denotaremos a cada derivada parcial como $\\Delta denominador$"
   ]
  },
  {
   "cell_type": "code",
   "execution_count": 55,
   "metadata": {
    "id": "1P6Qsi3-kdx5",
    "outputId": "851c20bb-ab95-4463-8261-15b471f0527b"
   },
   "outputs": [
    {
     "name": "stdout",
     "output_type": "stream",
     "text": [
      "0.002087022798644724\n"
     ]
    },
    {
     "data": {
      "text/plain": [
       "[<matplotlib.lines.Line2D at 0x166426f5c70>]"
      ]
     },
     "execution_count": 55,
     "metadata": {},
     "output_type": "execute_result"
    },
    {
     "data": {
      "image/png": "[encoded data removed]",
      "text/plain": [
       "<Figure size 432x288 with 1 Axes>"
      ]
     },
     "metadata": {
      "needs_background": "light"
     },
     "output_type": "display_data"
    }
   ],
   "source": [
    "#Realizar un ajuste de pesos sobre la regresión lineal hasta encontrar la línea\n",
    "#que mejor se ajuste\n",
    "n = X.shape[0]\n",
    "m = X.shape[1]\n",
    "W = np.ones((n,1))\n",
    "b = 0\n",
    "#Learning_rate o alpha debe ser relativamente pequeño para asegurar la convergencia del método\n",
    "learning_rate = 0.001\n",
    "\n",
    "#Realizar 10000 iteraciones\n",
    "for i in range(10000):\n",
    "    A = np.dot(W.T, X) + b\n",
    "\n",
    "    \n",
    "    dW = -(2/m) * ( np.dot(Y - A, X.T ))\n",
    "\n",
    "    db = -(2/m) * np.sum( Y - A )\n",
    "    \n",
    "    W = W - learning_rate*dW\n",
    "    b = b - learning_rate*db\n",
    "\n",
    "    A = np.dot(W.T, X) + b\n",
    "    L = np.sum(np.power(Y-A,2))/m\n",
    "\n",
    "print(L)\n",
    "plt.scatter(X, Y)\n",
    "plt.plot(X[0], A[0], 'g-')  \n",
    "\n"
   ]
  },
  {
   "cell_type": "markdown",
   "metadata": {
    "id": "2o_fSIq9kdx6"
   },
   "source": [
    "A continuación probemos el código desarrollado en el dataset de diabetes, y comparemos con la función implementada por Scikit-Learn..."
   ]
  },
  {
   "cell_type": "code",
   "execution_count": 56,
   "metadata": {
    "id": "GTiDEIyvkdx6",
    "outputId": "b97ec75d-8639-4ee6-a431-00adc6dbea19"
   },
   "outputs": [
    {
     "name": "stdout",
     "output_type": "stream",
     "text": [
      "2861.8848914859072\n",
      "[[  -8.91315231]\n",
      " [-238.58518489]\n",
      " [ 522.6183413 ]\n",
      " [ 323.30152636]\n",
      " [-553.58466733]\n",
      " [ 287.42038705]\n",
      " [  -5.66530379]\n",
      " [ 146.61055298]\n",
      " [ 662.37304325]\n",
      " [  68.50422435]]\n"
     ]
    }
   ],
   "source": [
    "from sklearn import datasets, linear_model\n",
    "from sklearn.metrics import mean_squared_error, r2_score\n",
    "\n",
    "# Load the diabetes dataset\n",
    "diabetes = datasets.load_diabetes()\n",
    "\n",
    "X = diabetes.data.T\n",
    "Y = diabetes.target.reshape(1,len(diabetes.target))\n",
    "n = X.shape[0]\n",
    "m = X.shape[1]\n",
    "W = np.ones((n,1))\n",
    "b = 0\n",
    "learning_rate = 0.3\n",
    "\n",
    "losses = []\n",
    "\n",
    "for i in range(100000):\n",
    "    A = np.dot(W.T, X) + b\n",
    "    dW = -(2/m) * ( np.dot(Y - A, X.T ))\n",
    "    db = -(2/m) * np.sum( Y - A )\n",
    "    \n",
    "    W = W - learning_rate*dW.T\n",
    "    b = b - learning_rate*db\n",
    "\n",
    "    A = np.dot(W.T, X) + b\n",
    "    L = np.sum(np.power(Y-A,2))/m\n",
    "    losses.append(L)\n",
    "print(L)\n",
    "print(W)\n"
   ]
  },
  {
   "cell_type": "code",
   "execution_count": 57,
   "metadata": {
    "id": "optajltGkdx6",
    "outputId": "3f8d9225-549b-442a-9006-c84df69d3653"
   },
   "outputs": [
    {
     "data": {
      "text/plain": [
       "Text(0, 0.5, 'Perdida')"
      ]
     },
     "execution_count": 57,
     "metadata": {},
     "output_type": "execute_result"
    },
    {
     "data": {
      "image/png": "[encoded data removed]",
      "text/plain": [
       "<Figure size 432x288 with 1 Axes>"
      ]
     },
     "metadata": {
      "needs_background": "light"
     },
     "output_type": "display_data"
    }
   ],
   "source": [
    "fig = plt.figure()\n",
    "plt.plot(losses)\n",
    "fig.suptitle('Evolución de la perdida', fontsize=20)\n",
    "plt.xlabel('Iteración', fontsize=18)\n",
    "plt.ylabel('Perdida', fontsize=16)"
   ]
  },
  {
   "cell_type": "code",
   "execution_count": 58,
   "metadata": {
    "id": "KTVSN5c-kdx6"
   },
   "outputs": [],
   "source": [
    "from sklearn.linear_model import LinearRegression\n",
    "reg = LinearRegression().fit(X.T, Y[0])"
   ]
  },
  {
   "cell_type": "code",
   "execution_count": 59,
   "metadata": {
    "id": "Ze5CT7nnkdx7",
    "outputId": "a218c5f8-1682-4767-ec01-6e12d5a193c8"
   },
   "outputs": [
    {
     "name": "stdout",
     "output_type": "stream",
     "text": [
      "2859.69634758675\n",
      "[ -10.0098663  -239.81564367  519.84592005  324.3846455  -792.17563855\n",
      "  476.73902101  101.04326794  177.06323767  751.27369956   67.62669218]\n"
     ]
    }
   ],
   "source": [
    "A = reg.predict(X.T)\n",
    "L = np.sum(np.power(Y-A,2))/m\n",
    "print(L)\n",
    "print(reg.coef_)"
   ]
  },
  {
   "cell_type": "markdown",
   "metadata": {
    "id": "zefOeJCSkdx7"
   },
   "source": [
    "# 5.1.4. REGRESIÓN LOGÍSTICA\n",
    "\n",
    "La regresión logística se puede considerar una modificacón de la regresión lineal (modelo lineal generalizado). En este caso, en vez de predecir una variable de respuesta continua, se predice una variable de respuesta categórica, tal que:\n",
    "\n",
    "## $z =  W^{T}X + b $\n",
    "\n",
    "## $ a = \\sigma(z)$\n",
    "<br/>\n",
    "Donde...\n",
    "\n",
    "## $\\sigma(z) = \\frac{1}{1 + e^{-z}}$\n",
    "\n",
    "<br/>\n",
    "\n",
    "<img src = res/logistic.png>\n",
    "\n",
    "Debido a la forma de la función sigmoidea, los valores resultantes están entre 0 y 1, lo que la hace muy útil para la tarea de clasificación binaria.\n",
    "\n",
    "Considerando lo anterior se decide usar una función de perdida de entropía cruzada, definida como sigue para un conjunto de $m$ datos:\n",
    "\n",
    "## $L = \\frac{1}{m} \\cdot \\sum_{i=0}^{m-1} - y \\cdot log(a) - (1-y) \\cdot log(1- a)  $\n",
    "\n"
   ]
  },
  {
   "cell_type": "code",
   "execution_count": 60,
   "metadata": {
    "id": "Wn0bOH0Dkdx7"
   },
   "outputs": [],
   "source": [
    "df_train = pd.read_csv('data_train.csv')\n",
    "df_test = pd.read_csv('data_test.csv')\n",
    "df_train = df_train.drop(columns=['Unnamed: 0'])\n",
    "df_test =  df_test.drop(columns=['Unnamed: 0'])"
   ]
  },
  {
   "cell_type": "code",
   "execution_count": 61,
   "metadata": {
    "id": "budzVLuZkdx7"
   },
   "outputs": [],
   "source": [
    "df_train = df_train.loc[df_train['class'].isin([0.0,1.0])]\n",
    "df_train = df_train.dropna()\n",
    "df_test = df_test.loc[df_test['class'].isin([0.0,1.0])]\n",
    "df_test = df_test.dropna()"
   ]
  },
  {
   "cell_type": "code",
   "execution_count": 62,
   "metadata": {
    "id": "UCqWAtfQkdx8"
   },
   "outputs": [],
   "source": [
    "X_train = df_train.values[:,:-1]\n",
    "Y_train = df_train.values[:,-1]\n",
    "\n",
    "X_train = X_train.T\n",
    "Y_train = Y_train.reshape((1,len(Y_train)))\n",
    "\n",
    "X_test = df_test.values[:,:-1]\n",
    "Y_test = df_test.values[:,-1]\n",
    "\n",
    "X_test = X_test.T\n",
    "Y_test = Y_test.reshape((1,len(Y_test)))"
   ]
  },
  {
   "cell_type": "markdown",
   "metadata": {
    "id": "FhpNSlKdkdx8"
   },
   "source": [
    "A continuación implementamos la regresión logística. La derivación correspondiente se encuentra en el pdf adjunto \"deriv_log.pdf\""
   ]
  },
  {
   "cell_type": "code",
   "execution_count": 63,
   "metadata": {
    "id": "OWrZhAMnkdx8"
   },
   "outputs": [],
   "source": [
    "n = X_train.shape[0]\n",
    "m = X_train.shape[1]\n",
    "W = np.ones((n,1))\n",
    "b = 0\n",
    "learning_rate = 0.01\n",
    "eps = 0.00000001\n",
    "losses = []\n",
    "\n",
    "Z = np.dot(W.T, X_train) + b\n",
    "A = 1/(1+np.exp(-Z))\n",
    "for i in range(100):\n",
    "\n",
    "    dW = np.dot(X_train, (A-Y_train).T)\n",
    "    db = np.sum(A-Y_train)\n",
    "    W = W - learning_rate*dW\n",
    "    b = b - learning_rate*db\n",
    "    Z = np.dot(W.T, X_train) + b\n",
    "    A = 1/(1+np.exp(-Z))  \n",
    "    L = -np.sum((Y_train*np.log(eps+A)+((1-Y_train)*np.log(eps+1-A))))/m    \n",
    "    losses.append(L)"
   ]
  },
  {
   "cell_type": "code",
   "execution_count": 64,
   "metadata": {
    "id": "jrKHeDnskdx8",
    "outputId": "6f2b2786-8c71-49b9-ae57-e1cb159d82cd"
   },
   "outputs": [
    {
     "data": {
      "text/plain": [
       "Text(0, 0.5, 'Perdida')"
      ]
     },
     "execution_count": 64,
     "metadata": {},
     "output_type": "execute_result"
    },
    {
     "data": {
      "image/png": "[encoded data removed]",
      "text/plain": [
       "<Figure size 432x288 with 1 Axes>"
      ]
     },
     "metadata": {
      "needs_background": "light"
     },
     "output_type": "display_data"
    }
   ],
   "source": [
    "fig = plt.figure()\n",
    "plt.plot(losses)\n",
    "fig.suptitle('Evolución de la perdida', fontsize=20)\n",
    "plt.xlabel('Iteración', fontsize=18)\n",
    "plt.ylabel('Perdida', fontsize=16)\n"
   ]
  },
  {
   "cell_type": "code",
   "execution_count": 65,
   "metadata": {
    "id": "Ywz-164Wkdx8",
    "outputId": "11a6d6bc-5f30-4bc7-8f91-b2223e192b54"
   },
   "outputs": [
    {
     "name": "stdout",
     "output_type": "stream",
     "text": [
      "Peso relacionado con cada atributo: \n",
      "hu0 :\t 65.41496693110925\n",
      "hu1 :\t 1276.9433023949591\n",
      "hu2 :\t -770.7882707886737\n",
      "hu3 :\t -531.6106883803883\n",
      "hu4 :\t 8.613378274629387\n",
      "hu5 :\t 9.50033870070516\n",
      "hu6 :\t -10.741249471205114\n",
      "euler_num :\t 939.5932767222872\n",
      "orientation :\t 109.85000752679761\n",
      "area_to_convex_ratio :\t 233.17344579767925\n",
      "compacity :\t -411.40407911911836\n",
      "roundness :\t 195.99805806929734\n",
      "area_perimeter_ratio :\t 204.71542821878504\n",
      "elongation :\t 3178.8407694039797\n",
      "solidity1 :\t 233.17344579767925\n",
      "solidity2 :\t 403.18693729322234\n",
      "\n",
      "\n",
      "Casos mal clasificados sobre el conjunto de prueba:  33.0  de  2109\n"
     ]
    }
   ],
   "source": [
    "colnames = df_train.columns.values\n",
    "weights = W.T[0]\n",
    "print(\"Peso relacionado con cada atributo: \")\n",
    "for i in range(len(colnames)-1):\n",
    "    print(colnames[i],\":\\t\", weights[i])\n",
    "\n",
    "print(\"\\n\")\n",
    "    \n",
    "Z = np.dot(W.T, X_test) + b\n",
    "A = 1/(1+np.exp(-Z))  \n",
    "    \n",
    "A[A>0.5] = 1\n",
    "A[A<=0.5] = 0\n",
    "\n",
    "\n",
    "\n",
    "print(\"Casos mal clasificados sobre el conjunto de prueba: \", np.sum(np.abs(A-Y_test)), \" de \", Y_test.shape[1])"
   ]
  },
  {
   "cell_type": "code",
   "execution_count": 66,
   "metadata": {
    "id": "Rt8BFSyPkdx9",
    "outputId": "d987fc6a-e761-4bb1-d97d-1fb6db40e36f"
   },
   "outputs": [
    {
     "data": {
      "text/html": [
       "<style>#sk-container-id-2 {color: black;background-color: white;}#sk-container-id-2 pre{padding: 0;}#sk-container-id-2 div.sk-toggleable {background-color: white;}#sk-container-id-2 label.sk-toggleable__label {cursor: pointer;display: block;width: 100%;margin-bottom: 0;padding: 0.3em;box-sizing: border-box;text-align: center;}#sk-container-id-2 label.sk-toggleable__label-arrow:before {content: \"▸\";float: left;margin-right: 0.25em;color: #696969;}#sk-container-id-2 label.sk-toggleable__label-arrow:hover:before {color: black;}#sk-container-id-2 div.sk-estimator:hover label.sk-toggleable__label-arrow:before {color: black;}#sk-container-id-2 div.sk-toggleable__content {max-height: 0;max-width: 0;overflow: hidden;text-align: left;background-color: #f0f8ff;}#sk-container-id-2 div.sk-toggleable__content pre {margin: 0.2em;color: black;border-radius: 0.25em;background-color: #f0f8ff;}#sk-container-id-2 input.sk-toggleable__control:checked~div.sk-toggleable__content {max-height: 200px;max-width: 100%;overflow: auto;}#sk-container-id-2 input.sk-toggleable__control:checked~label.sk-toggleable__label-arrow:before {content: \"▾\";}#sk-container-id-2 div.sk-estimator input.sk-toggleable__control:checked~label.sk-toggleable__label {background-color: #d4ebff;}#sk-container-id-2 div.sk-label input.sk-toggleable__control:checked~label.sk-toggleable__label {background-color: #d4ebff;}#sk-container-id-2 input.sk-hidden--visually {border: 0;clip: rect(1px 1px 1px 1px);clip: rect(1px, 1px, 1px, 1px);height: 1px;margin: -1px;overflow: hidden;padding: 0;position: absolute;width: 1px;}#sk-container-id-2 div.sk-estimator {font-family: monospace;background-color: #f0f8ff;border: 1px dotted black;border-radius: 0.25em;box-sizing: border-box;margin-bottom: 0.5em;}#sk-container-id-2 div.sk-estimator:hover {background-color: #d4ebff;}#sk-container-id-2 div.sk-parallel-item::after {content: \"\";width: 100%;border-bottom: 1px solid gray;flex-grow: 1;}#sk-container-id-2 div.sk-label:hover label.sk-toggleable__label {background-color: #d4ebff;}#sk-container-id-2 div.sk-serial::before {content: \"\";position: absolute;border-left: 1px solid gray;box-sizing: border-box;top: 0;bottom: 0;left: 50%;z-index: 0;}#sk-container-id-2 div.sk-serial {display: flex;flex-direction: column;align-items: center;background-color: white;padding-right: 0.2em;padding-left: 0.2em;position: relative;}#sk-container-id-2 div.sk-item {position: relative;z-index: 1;}#sk-container-id-2 div.sk-parallel {display: flex;align-items: stretch;justify-content: center;background-color: white;position: relative;}#sk-container-id-2 div.sk-item::before, #sk-container-id-2 div.sk-parallel-item::before {content: \"\";position: absolute;border-left: 1px solid gray;box-sizing: border-box;top: 0;bottom: 0;left: 50%;z-index: -1;}#sk-container-id-2 div.sk-parallel-item {display: flex;flex-direction: column;z-index: 1;position: relative;background-color: white;}#sk-container-id-2 div.sk-parallel-item:first-child::after {align-self: flex-end;width: 50%;}#sk-container-id-2 div.sk-parallel-item:last-child::after {align-self: flex-start;width: 50%;}#sk-container-id-2 div.sk-parallel-item:only-child::after {width: 0;}#sk-container-id-2 div.sk-dashed-wrapped {border: 1px dashed gray;margin: 0 0.4em 0.5em 0.4em;box-sizing: border-box;padding-bottom: 0.4em;background-color: white;}#sk-container-id-2 div.sk-label label {font-family: monospace;font-weight: bold;display: inline-block;line-height: 1.2em;}#sk-container-id-2 div.sk-label-container {text-align: center;}#sk-container-id-2 div.sk-container {/* jupyter's `normalize.less` sets `[hidden] { display: none; }` but bootstrap.min.css set `[hidden] { display: none !important; }` so we also need the `!important` here to be able to override the default hidden behavior on the sphinx rendered scikit-learn.org. See: https://github.com/scikit-learn/scikit-learn/issues/21755 */display: inline-block !important;position: relative;}#sk-container-id-2 div.sk-text-repr-fallback {display: none;}</style><div id=\"sk-container-id-2\" class=\"sk-top-container\"><div class=\"sk-text-repr-fallback\"><pre>LogisticRegression()</pre><b>In a Jupyter environment, please rerun this cell to show the HTML representation or trust the notebook. <br />On GitHub, the HTML representation is unable to render, please try loading this page with nbviewer.org.</b></div><div class=\"sk-container\" hidden><div class=\"sk-item\"><div class=\"sk-estimator sk-toggleable\"><input class=\"sk-toggleable__control sk-hidden--visually\" id=\"sk-estimator-id-2\" type=\"checkbox\" checked><label for=\"sk-estimator-id-2\" class=\"sk-toggleable__label sk-toggleable__label-arrow\">LogisticRegression</label><div class=\"sk-toggleable__content\"><pre>LogisticRegression()</pre></div></div></div></div></div>"
      ],
      "text/plain": [
       "LogisticRegression()"
      ]
     },
     "execution_count": 66,
     "metadata": {},
     "output_type": "execute_result"
    }
   ],
   "source": [
    "from sklearn.linear_model import LogisticRegression\n",
    "\n",
    "\n",
    "model = LogisticRegression()\n",
    "model.fit(X_train.T, Y_train[0])"
   ]
  },
  {
   "cell_type": "code",
   "execution_count": 67,
   "metadata": {
    "id": "SiR78xHqkdx9",
    "outputId": "bc46db95-6d89-4e63-c826-ee42f96026e0"
   },
   "outputs": [
    {
     "name": "stdout",
     "output_type": "stream",
     "text": [
      "Peso relacionado con cada atributo: \n",
      "hu0 :\t 0.3170090062369767\n",
      "hu1 :\t 0.60274043856503\n",
      "hu2 :\t 0.9589800685940439\n",
      "hu3 :\t -0.2768099756552851\n",
      "hu4 :\t 0.005340780410749471\n",
      "hu5 :\t -0.007808643976346647\n",
      "hu6 :\t -0.010662933979891326\n",
      "euler_num :\t 2.7888512609750613\n",
      "orientation :\t 1.38615814831496\n",
      "area_to_convex_ratio :\t -1.4720281937703792\n",
      "compacity :\t -0.10843202115998331\n",
      "roundness :\t 0.6232498740228902\n",
      "area_perimeter_ratio :\t -0.4869030643703806\n",
      "elongation :\t 3.482391508285402\n",
      "solidity1 :\t -1.4720281937703792\n",
      "solidity2 :\t 3.1386087372208142\n"
     ]
    }
   ],
   "source": [
    "colnames = df_train.columns.values\n",
    "weights = model.coef_[0]\n",
    "print(\"Peso relacionado con cada atributo: \")\n",
    "for i in range(len(colnames)-1):\n",
    "    print(colnames[i],\":\\t\", weights[i])"
   ]
  },
  {
   "cell_type": "code",
   "execution_count": 68,
   "metadata": {
    "id": "QwXP2gBZkdx9",
    "outputId": "5f54d8a2-b1d7-4345-b2f8-3a551b3af749"
   },
   "outputs": [
    {
     "name": "stdout",
     "output_type": "stream",
     "text": [
      "Casos mal clasificados sobre el conjunto de prueba:  4.0  de  2109\n"
     ]
    }
   ],
   "source": [
    "A = model.predict(X_test.T)\n",
    "print(\"Casos mal clasificados sobre el conjunto de prueba: \", np.sum(np.abs(A-Y_test)), \" de \", Y_test.shape[1])"
   ]
  },
  {
   "cell_type": "code",
   "execution_count": 69,
   "metadata": {
    "id": "9kIedcexkdx-",
    "outputId": "3addd761-53b9-418c-d7c6-8f393ce36b63"
   },
   "outputs": [
    {
     "data": {
      "text/plain": [
       "array([[ 979,    3],\n",
       "       [   1, 1126]], dtype=int64)"
      ]
     },
     "execution_count": 69,
     "metadata": {},
     "output_type": "execute_result"
    }
   ],
   "source": [
    "from sklearn.metrics import confusion_matrix\n",
    "\n",
    "confusion_matrix(A,Y_test[0])"
   ]
  }
 ],
 "metadata": {
  "colab": {
   "name": "Clase_11.ipynb",
   "provenance": []
  },
  "kernelspec": {
   "display_name": "Python 3 (ipykernel)",
   "language": "python",
   "name": "python3"
  },
  "language_info": {
   "codemirror_mode": {
    "name": "ipython",
    "version": 3
   },
   "file_extension": ".py",
   "mimetype": "text/x-python",
   "name": "python",
   "nbconvert_exporter": "python",
   "pygments_lexer": "ipython3",
   "version": "3.8.12"
  }
 },
 "nbformat": 4,
 "nbformat_minor": 1
}
