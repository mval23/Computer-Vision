{
 "cells": [
  {
   "cell_type": "markdown",
   "metadata": {},
   "source": [
    "# Taller Práctico - Visión Artificial 2022-02"
   ]
  },
  {
   "cell_type": "markdown",
   "metadata": {},
   "source": [
    "### Nombre: Yo me llamo..."
   ]
  },
  {
   "cell_type": "markdown",
   "metadata": {},
   "source": [
    "## 1. Adquisición de Imágenes"
   ]
  },
  {
   "cell_type": "markdown",
   "metadata": {},
   "source": [
    "La adquisición de imágen es la primera etapa de un sistema de visión artificial, en la cual empezamos a obtener los datos, describirlos, saber en qué ambiente tendremos nuestro conjunto de imagenes.\n",
    "\n",
    "En este caso, la adquisición la vamos hacer bajo un ambiente ideal o controlado, por lo tanto sigamos la siguiente metodología:\n",
    "<ul>\n",
    "<li> Tome mínimo 5 imágenes del objeto que desea estudiar, con distancias diferentes, iluminación artificial (Foco de la casa, flash del celular, etc) y del ambiente. Anotar la cámara y el sensor que usó, y utilice zoom en alguna fotografía. Intente explicar cómo su dispositivo realiza el zoom. Guardar sus imagenes en la carpeta res.\n",
    "<br>\n",
    "<br>\n",
    "<li> Leer las imágenes con opencv, y comparar con cada espacio de color (RGB, LAB, HSV, GRAYSCALE).\n",
    "</ul>"
   ]
  },
  {
   "cell_type": "markdown",
   "metadata": {},
   "source": [
    "### Preguntas/Conclusiones\n",
    "\n",
    "<ul>\n",
    "<li> ¿Por qué se ve mejor el objeto en un canal determinado y en otro no? Así mismo mencione los candidatos de canales de color para mejorar el estudio de su objeto.\n",
    "<br>\n",
    "<br>\n",
    "<li> ¿Cómo explicar el contenido de los canales HSV con base a los resultados obtenidos?\n",
    "</ul>"
   ]
  },
  {
   "cell_type": "code",
   "execution_count": 1,
   "metadata": {},
   "outputs": [],
   "source": [
    "## Importar las librerías necesarias\n",
    "%matplotlib inline \n",
    "#Magic para mostrar imágenes en Jupyter usando matplotlib\n",
    "import numpy as np\n",
    "import cv2\n",
    "import matplotlib.pyplot as plt"
   ]
  },
  {
   "cell_type": "code",
   "execution_count": null,
   "metadata": {},
   "outputs": [],
   "source": [
    "### Escriba su código aquí ###"
   ]
  },
  {
   "cell_type": "markdown",
   "metadata": {},
   "source": [
    "Responder sus preguntas aquí..."
   ]
  },
  {
   "cell_type": "markdown",
   "metadata": {},
   "source": [
    "---"
   ]
  },
  {
   "cell_type": "markdown",
   "metadata": {},
   "source": [
    "## 2. Pre-Procesamiento"
   ]
  },
  {
   "cell_type": "markdown",
   "metadata": {},
   "source": [
    "El objetivo del preprocesamiento es mejorar la calidad y/o la apariencia de la imagen original para su análisis e interpretación. Se resaltan ciertas características de la imagen (bordes, contraste, …) y se ocultan o eliminan otras (por ejemplo, el ruido).\n",
    "El preprocesamiento es una etapa previa que es necesaria para otras fases posteriores del proceso de visión artificial (segmentación, extracción de características, reconocimiento e interpretación).\n",
    "\n",
    "<b>Para mayor información ver notebook de repaso de pre procesamiento...</b>\n",
    "\n",
    "La metodología de está etapa será la siguiente:\n",
    "<ul>\n",
    "    <li> Observar y describir el histograma de las imágenes con su respectivo canal seleccionados en la etapa anterior.\n",
    "<br>\n",
    "<br>\n",
    "    <li> Aplicar alguna transformación (lineal o no lineal) o convolución, con el fin de mejorar la calidad de la imagen, o resaltar las características de su objeto de estudio (Puede hacer la prueba con cualquier imagen de su dataset).\n",
    "</ul>    "
   ]
  },
  {
   "cell_type": "markdown",
   "metadata": {},
   "source": [
    "### Preguntas/Conclusiones\n",
    "\n",
    "<ul>\n",
    "    <li> ¿Qué comportamiento tiene el histograma en cada una de sus imagenes, existe algún patrón (Algún valle, simetria, etc)? \n",
    "    <br>\n",
    "    <br>\n",
    "    <li> ¿Qué transformación/convolución mejora la calidad de su imagen, y por qué se resalta mejor las caracteristícas con una transformación/convolución y con otras no? En caso que no funcione alguna, explique.\n",
    "</ul>"
   ]
  },
  {
   "cell_type": "code",
   "execution_count": null,
   "metadata": {},
   "outputs": [],
   "source": [
    "### Escriba su código aquí ###"
   ]
  },
  {
   "cell_type": "markdown",
   "metadata": {},
   "source": [
    "Responder sus preguntas aquí..."
   ]
  },
  {
   "cell_type": "markdown",
   "metadata": {},
   "source": [
    "---"
   ]
  },
  {
   "cell_type": "markdown",
   "metadata": {},
   "source": [
    "# 3. Segmentación"
   ]
  },
  {
   "cell_type": "markdown",
   "metadata": {},
   "source": [
    "Las Segmentación es la partición de una imagen en regiones homogéneas con respecto a una o más características, por ejemplo:\n",
    "<ul>\n",
    "    <li> La forma.\n",
    "    <li> El color.\n",
    "    <li> El brillo.\n",
    "    <li> La textura.\n",
    "</ul>\n",
    "En esta etapa, algunas veces es posible hacer la detección del objeto, por lo tanto comprobemos si con lo visto en el curso ya podemos segmentar o detectar nuestro objeto estudio, para ellom, hagamos lo siguiente:\n",
    "<br>\n",
    "<br>\n",
    "<ul>\n",
    "    <li> Aplicar segmentación usando umbralización para la imagen original con su respectivo canal que seleccionó en la etapa de adquisición, y el mejor resultado que obtuvo en el pre procesamiento. Probar diferentes umbrales. Guarde sus resultados.\n",
    "<br>\n",
    "<br>\n",
    "    <li> Aplicar segmentación basada en detección de bordes para la imagen original con su respectivo canal que seleccionó en la etapa de adquisición, y el mejor resultado que obtuvo en el pre procesamiento. Seleccionar un umbral, y probar con diferentes filtros de convolución. <b>Sugerencia: </b> Filtro de media o mediana. Guarde sus resultados.\n",
    "<br>\n",
    "<br>\n",
    "    <li> Finalmente, aplique la máscara que generó su segmentación, y describa sus resultados.\n",
    "</ul>"
   ]
  },
  {
   "cell_type": "markdown",
   "metadata": {
    "notebookRunGroups": {
     "groupValue": ""
    }
   },
   "source": [
    "### Preguntas/Conclusiones\n",
    "<ul>\n",
    "<li> ¿Se logra segmentar por umbralización su objeto de estudio? Explique, y en caso contrario explique también :P.\n",
    "<br>\n",
    "<br>\n",
    "<li> ¿Se logra detectar los bordes de su objeto de estudio? ¿Los bordes se ajustan correctamente al objeto? Describa los bordes que obtuvo.\n",
    "</ul>"
   ]
  },
  {
   "cell_type": "code",
   "execution_count": null,
   "metadata": {},
   "outputs": [],
   "source": [
    "### Escriba su código aquí ###"
   ]
  },
  {
   "cell_type": "markdown",
   "metadata": {},
   "source": [
    "Responder sus preguntas aquí..."
   ]
  },
  {
   "cell_type": "code",
   "execution_count": 2,
   "metadata": {},
   "outputs": [],
   "source": [
    "### Quiero ver la aplicación de su máscara aquí!!!! ###"
   ]
  },
  {
   "cell_type": "markdown",
   "metadata": {},
   "source": [
    "---"
   ]
  },
  {
   "cell_type": "markdown",
   "metadata": {},
   "source": [
    "# 4. Conclusiones "
   ]
  },
  {
   "cell_type": "markdown",
   "metadata": {},
   "source": [
    "Escribir conclusiones...\n",
    "\n",
    "<b>Ayudita:</b> Explicar resultados obtenidos alrededor del taller, explique si fue o no posible detectar el objeto de estudio, cómo se puede mejorar los resultados, complejidad del problema, etc..."
   ]
  }
 ],
 "metadata": {
  "kernelspec": {
   "display_name": "Python 3 (ipykernel)",
   "language": "python",
   "name": "python3"
  },
  "language_info": {
   "codemirror_mode": {
    "name": "ipython",
    "version": 3
   },
   "file_extension": ".py",
   "mimetype": "text/x-python",
   "name": "python",
   "nbconvert_exporter": "python",
   "pygments_lexer": "ipython3",
   "version": "3.8.0"
  },
  "vscode": {
   "interpreter": {
    "hash": "d7884f61237fe03f4b90fc5ffedbbbb80380bd99eccd658d0a24890fbbcccd8c"
   }
  }
 },
 "nbformat": 4,
 "nbformat_minor": 2
}
